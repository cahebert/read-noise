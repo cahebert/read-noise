{
 "cells": [
  {
   "cell_type": "markdown",
   "metadata": {},
   "source": [
    "# Imports"
   ]
  },
  {
   "cell_type": "code",
   "execution_count": 1,
   "metadata": {},
   "outputs": [
    {
     "data": {
      "application/javascript": [
       "IPython.notebook.set_autosave_interval(180000)"
      ]
     },
     "metadata": {},
     "output_type": "display_data"
    },
    {
     "name": "stdout",
     "output_type": "stream",
     "text": [
      "Autosaving every 180 seconds\n"
     ]
    }
   ],
   "source": [
    "%autosave 180"
   ]
  },
  {
   "cell_type": "code",
   "execution_count": 2,
   "metadata": {},
   "outputs": [],
   "source": [
    "%matplotlib inline\n",
    "from sklearn.linear_model import LinearRegression\n",
    "from scipy.stats import multivariate_normal\n",
    "from matplotlib import pyplot as plt\n",
    "from astropy.utils.data import get_pkg_data_filename\n",
    "import numpy as np\n",
    "import galsim\n",
    "import os\n",
    "import math\n",
    "import time\n",
    "import loggingsss\n",
    "import sys\n",
    "import fitsio"
   ]
  },
  {
   "cell_type": "markdown",
   "metadata": {},
   "source": [
    "# Read Chinchilla Catalog"
   ]
  },
  {
   "cell_type": "code",
   "execution_count": 3,
   "metadata": {},
   "outputs": [],
   "source": [
    "file = os.path.join('/nfs/slac/des/fs1/g/sims/jderose/BCC/Chinchilla/Herd/Chinchilla-4/v1.9.2/addgalspostprocess/truth/truth/','Chinchilla-4_lensed.4.fits')\n",
    "\n",
    "span = range(100000)\n",
    "\n",
    "_HLR = fitsio.read(file, columns='SIZE', rows=span, ext=1)\n",
    "LMAG = fitsio.read(file, columns = 'LMAG', rows=span, ext=1)\n",
    "EPSILON = fitsio.read(file, columns='EPSILON', rows=span, ext=1)\n",
    "RBAND = LMAG[:,1]\n",
    "E1 = EPSILON[:,0]\n",
    "E2 = EPSILON[:,1]"
   ]
  },
  {
   "cell_type": "code",
   "execution_count": 4,
   "metadata": {},
   "outputs": [],
   "source": [
    "x, y = np.mgrid[-24.5:25.5:1, -24.5:25.5:1]\n",
    "pos = np.zeros(x.shape + (2,))\n",
    "pos[:, :, 0] = x; pos[:, :, 1] = y\n",
    "\n",
    "def matrixflux(integer): # params should be the number of galaxies (or maybe a catalog), and a noise object maybe, or we can just call the noise within the function\n",
    "    matrixfluxes = np.zeros(integer)\n",
    "    gfluxes = np.zeros(integer)\n",
    "    images = []\n",
    "    deltafluxes = np.zeros(integer)\n",
    "    counter = 0\n",
    "    for i in range(integer):\n",
    "        \n",
    "        rng = galsim.BaseDeviate(215324) # make noise object\n",
    "        noise = galsim.GaussianNoise(rng, sigma=0.005)\n",
    "        \n",
    "        hlradius = _HLR[i] # catalogs\n",
    "        sigma = 1/(np.sqrt(2*np.log(2))) * hlradius \n",
    "        elip1 = E1[i]\n",
    "        elip2 = E2[i]\n",
    "        magnitude = RBAND[i]\n",
    "        gflux = 10**((magnitude-22.5)/(-2.5))\n",
    "        gfluxes[i] = gflux\n",
    "    \n",
    "        image = galsim.ImageF(50, 50) # make noise free image\n",
    "        gal = galsim.Gaussian(flux=gflux, half_light_radius=hlradius)\n",
    "        gal = gal.shear(galsim.Shear(e1=elip1, e2=elip2))\n",
    "        final = galsim.Convolve([gal])\n",
    "        image = final.drawImage(image, scale=0.02)\n",
    "        images.append(image)\n",
    "        \n",
    "        noiseimage = galsim.ImageF(50, 50) # generate the noise\n",
    "        noiseimage.addNoise(noise)\n",
    "        \n",
    "        shear = galsim.Shear(e1=-1*elip1, e2=elip2) # The negative sign in e1 is due to the difference in how GalSim treats shearing matrices\n",
    "        matrix = (shear.getMatrix())*(sigma**2)*25  \n",
    "        \n",
    "        \n",
    "        rv = multivariate_normal([0, 0], matrix)\n",
    "        r1 = np.sum(np.multiply(rv.pdf(pos), image.array + noiseimage.array))\n",
    "        r2 = np.sum(np.multiply(rv.pdf(pos), rv.pdf(pos)))\n",
    "        delta = np.sum(np.multiply(rv.pdf(pos), image.array + noiseimage.array))\n",
    "        matrixfluxes[i] = r1/r2\n",
    "        deltafluxes[i] = delta/r2\n",
    " \n",
    "    return matrixfluxes, deltafluxes, gfluxes, images, counter"
   ]
  },
  {
   "cell_type": "code",
   "execution_count": 5,
   "metadata": {},
   "outputs": [],
   "source": [
    "matrixfluxes, deltafluxes, galaxyfluxes, images, counter = matrixflux(100000)\n",
    "# problematic galaxies have 0.03207835723861807, 0.029314217378540914"
   ]
  },
  {
   "cell_type": "code",
   "execution_count": 12,
   "metadata": {},
   "outputs": [
    {
     "name": "stdout",
     "output_type": "stream",
     "text": [
      "3.483518687602152\n"
     ]
    }
   ],
   "source": [
    "print(1/(np.sqrt(2*np.log(2)))*np.amax(_HLR) + 0.7)\n",
    "\n"
   ]
  },
  {
   "cell_type": "code",
   "execution_count": 6,
   "metadata": {},
   "outputs": [
    {
     "data": {
      "image/png": "[encoded data removed]",
      "text/plain": [
       "<Figure size 432x288 with 1 Axes>"
      ]
     },
     "metadata": {
      "needs_background": "light"
     },
     "output_type": "display_data"
    },
    {
     "data": {
      "text/plain": [
       "Text(0, 0.5, 'matrix flux')"
      ]
     },
     "execution_count": 6,
     "metadata": {},
     "output_type": "execute_result"
    },
    {
     "data": {
      "image/png": "[encoded data removed]",
      "text/plain": [
       "<Figure size 432x288 with 1 Axes>"
      ]
     },
     "metadata": {
      "needs_background": "light"
     },
     "output_type": "display_data"
    }
   ],
   "source": [
    "#x = plt.hist(_HLR, bins = 30, range=[0, 0.2]);\n",
    "#print(x[0])\n",
    "#print(x[1])\n",
    "plt.figure()\n",
    "plt.scatter(_HLR, deltafluxes);\n",
    "plt.xlabel(\"hlradius\")\n",
    "plt.ylabel(\"delta flux\")\n",
    "plt.show()\n",
    "\n",
    "\n",
    "plt.figure()\n",
    "plt.scatter(_HLR, matrixfluxes);\n",
    "plt.xlabel(\"hlradius\")\n",
    "plt.ylabel(\"matrix flux\")"
   ]
  },
  {
   "cell_type": "code",
   "execution_count": 7,
   "metadata": {},
   "outputs": [
    {
     "data": {
      "text/plain": [
       "<Figure size 432x288 with 0 Axes>"
      ]
     },
     "metadata": {},
     "output_type": "display_data"
    },
    {
     "data": {
      "image/png": "[encoded data removed]",
      "text/plain": [
       "<Figure size 432x288 with 2 Axes>"
      ]
     },
     "metadata": {
      "needs_background": "light"
     },
     "output_type": "display_data"
    }
   ],
   "source": [
    "plt.figure()\n",
    "f, ax = plt.subplots(1, 1)\n",
    "im = ax.imshow(images[704].array)\n",
    "f.colorbar(im, ax=ax)\n",
    "plt.tight_layout()"
   ]
  },
  {
   "cell_type": "code",
   "execution_count": 8,
   "metadata": {},
   "outputs": [
    {
     "name": "stdout",
     "output_type": "stream",
     "text": [
      "0.029314217378540914 24.138329800462884\n"
     ]
    },
    {
     "ename": "NameError",
     "evalue": "name 'cheat' is not defined",
     "output_type": "error",
     "traceback": [
      "\u001b[0;31m---------------------------------------------------------------------------\u001b[0m",
      "\u001b[0;31mNameError\u001b[0m                                 Traceback (most recent call last)",
      "\u001b[0;32m<ipython-input-8-488fcefd83f2>\u001b[0m in \u001b[0;36m<module>\u001b[0;34m\u001b[0m\n\u001b[1;32m      1\u001b[0m \u001b[0mprint\u001b[0m\u001b[0;34m(\u001b[0m\u001b[0m_HLR\u001b[0m\u001b[0;34m[\u001b[0m\u001b[0;36m817\u001b[0m\u001b[0;34m]\u001b[0m\u001b[0;34m,\u001b[0m \u001b[0mRBAND\u001b[0m\u001b[0;34m[\u001b[0m\u001b[0;36m817\u001b[0m\u001b[0;34m]\u001b[0m\u001b[0;34m)\u001b[0m\u001b[0;34m\u001b[0m\u001b[0;34m\u001b[0m\u001b[0m\n\u001b[0;32m----> 2\u001b[0;31m \u001b[0mprint\u001b[0m\u001b[0;34m(\u001b[0m\u001b[0mcheat\u001b[0m\u001b[0;34m)\u001b[0m\u001b[0;34m\u001b[0m\u001b[0;34m\u001b[0m\u001b[0m\n\u001b[0m\u001b[1;32m      3\u001b[0m \u001b[0mprint\u001b[0m\u001b[0;34m(\u001b[0m\u001b[0m_HLR\u001b[0m\u001b[0;34m[\u001b[0m\u001b[0;36m816\u001b[0m\u001b[0;34m]\u001b[0m\u001b[0;34m,\u001b[0m \u001b[0mRBAND\u001b[0m\u001b[0;34m[\u001b[0m\u001b[0;36m816\u001b[0m\u001b[0;34m]\u001b[0m\u001b[0;34m)\u001b[0m\u001b[0;34m\u001b[0m\u001b[0;34m\u001b[0m\u001b[0m\n\u001b[1;32m      4\u001b[0m \u001b[0mprint\u001b[0m\u001b[0;34m(\u001b[0m\u001b[0mnp\u001b[0m\u001b[0;34m.\u001b[0m\u001b[0msum\u001b[0m\u001b[0;34m(\u001b[0m\u001b[0m_HLR\u001b[0m\u001b[0;34m)\u001b[0m\u001b[0;34m/\u001b[0m\u001b[0mlen\u001b[0m\u001b[0;34m(\u001b[0m\u001b[0m_HLR\u001b[0m\u001b[0;34m)\u001b[0m\u001b[0;34m)\u001b[0m\u001b[0;34m\u001b[0m\u001b[0;34m\u001b[0m\u001b[0m\n\u001b[1;32m      5\u001b[0m \u001b[0;31m#LMAG = fitsio.read(file, columns = 'LMAG', rows=span, ext=1)\u001b[0m\u001b[0;34m\u001b[0m\u001b[0;34m\u001b[0m\u001b[0;34m\u001b[0m\u001b[0m\n",
      "\u001b[0;31mNameError\u001b[0m: name 'cheat' is not defined"
     ]
    }
   ],
   "source": [
    "print(_HLR[817], RBAND[817])\n",
    "print(cheat)\n",
    "print(_HLR[816], RBAND[816])\n",
    "print(np.sum(_HLR)/len(_HLR))\n",
    "#LMAG = fitsio.read(file, columns = 'LMAG', rows=span, ext=1)\n",
    "#EPSILON = fitsio.read(file, columns='EPSILON', rows=span, ext=1)\n",
    "#RBAND = LMAG[:,1]\n",
    "#E1 = EPSILON[:,0]\n",
    "#E2 = EPSILON[:,1]"
   ]
  },
  {
   "cell_type": "code",
   "execution_count": null,
   "metadata": {},
   "outputs": [],
   "source": []
  }
 ],
 "metadata": {
  "kernelspec": {
   "display_name": "Python [conda env:lsst-scipipe-1172c30] *",
   "language": "python",
   "name": "conda-env-lsst-scipipe-1172c30-py"
  },
  "language_info": {
   "codemirror_mode": {
    "name": "ipython",
    "version": 3
   },
   "file_extension": ".py",
   "mimetype": "text/x-python",
   "name": "python",
   "nbconvert_exporter": "python",
   "pygments_lexer": "ipython3",
   "version": "3.7.2"
  }
 },
 "nbformat": 4,
 "nbformat_minor": 2
}
