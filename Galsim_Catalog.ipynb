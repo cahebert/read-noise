{
 "cells": [
  {
   "cell_type": "code",
   "execution_count": 1,
   "metadata": {},
   "outputs": [],
   "source": [
    "import numpy as np\n",
    "from scipy.stats import multivariate_normal\n",
    "from matplotlib import pyplot as plt\n",
    "%matplotlib inline\n",
    "import galsim\n",
    "import os\n",
    "import math\n",
    "import logging\n",
    "import sys\n",
    "from astropy.io import fits\n",
    "from astropy.visualization import astropy_mpl_style\n",
    "from astropy.coordinates import SphericalRepresentation, CartesianRepresentation"
   ]
  },
  {
   "cell_type": "code",
   "execution_count": 2,
   "metadata": {},
   "outputs": [],
   "source": [
    "simname = \"/nfs/slac/des/fs1/g/sims/jderose/BCC/Chinchilla/Herd/Chinchilla-4/v1.9.2/addgalspostprocess/mag2/Chinchilla-4-y3wlpz.0.fits\"\n",
    "truthname = \"/nfs/slac/des/fs1/g/sims/jderose/BCC/Chinchilla/Herd/Chinchilla-4/v1.9.2/addgalspostprocess/truth/truth/Chinchilla-4_lensed.4.fits\""
   ]
  },
  {
   "cell_type": "code",
   "execution_count": 3,
   "metadata": {},
   "outputs": [],
   "source": [
    "simhdu = fits.open(simname)\n",
    "truthhdu = fits.open(truthname)"
   ]
  },
  {
   "cell_type": "code",
   "execution_count": 4,
   "metadata": {},
   "outputs": [],
   "source": [
    "#simhdu.info()\n",
    "sim_table = simhdu[1].data\n",
    "#print(sim_table.columns);\n",
    "\n",
    "#truthhdu.info()\n",
    "truth_table = truthhdu[1].data\n",
    "#print(truth_table.columns)"
   ]
  },
  {
   "cell_type": "code",
   "execution_count": 5,
   "metadata": {},
   "outputs": [],
   "source": [
    "cat_file_name = os.path.join('/nfs/slac/des/fs1/g/sims/jderose/BCC/Chinchilla/Herd/Chinchilla-4/v1.9.2/addgalspostprocess/truth/truth/','Chinchilla-4_lensed.4.fits')\n",
    "cat = galsim.Catalog(cat_file_name)"
   ]
  },
  {
   "cell_type": "code",
   "execution_count": null,
   "metadata": {},
   "outputs": [],
   "source": [
    "\n",
    "   # final2 = galsim.Convolve([gal])\n",
    "   # image2 = galsim.ImageF(48, 48)\n",
    "   # nfimages.append(image1)\n",
    "   # final2.drawImage(image2, scale=0.2)\n",
    "   # image2.addNoise(galsim.GaussianNoise(rng, 0.005*gflux))\n",
    "   # nimages.append(image2)\n",
    "  #  image1.addNoise(galsim.GaussianNoise(rng, 0.0005))\n",
    "      #gal = galsim.Gaussian(flux=gflux, half_light_radius=hlr)\n",
    "      #shearing = galsim.Shear(e1=elip1, e2=elip2)"
   ]
  },
  {
   "cell_type": "code",
   "execution_count": 147,
   "metadata": {
    "scrolled": true
   },
   "outputs": [],
   "source": [
    "noisy_file_name = os.path.join('/afs/slac.stanford.edu/u/ki/gwisk/CRNProject','noisy.fits')\n",
    "noisefree_file_name = os.path.join('/afs/slac.stanford.edu/u/ki/gwisk/CRNProject','noisefree.fits')\n",
    "\n",
    "\n",
    "rband = truth_table['LMAG'][:,1] #grizy\n",
    "te1 = truth_table['EPSILON'][:,0]\n",
    "te2 = truth_table['EPSILON'][:,1]"
   ]
  },
  {
   "cell_type": "code",
   "execution_count": null,
   "metadata": {},
   "outputs": [],
   "source": [
    "# half light radius squared/flux\n",
    "def imagefunc(n=100):\n",
    "    _nimages, _moments, noisematrix, results, _matrices, rotations, gfluxes, hlr1, failures =([] for i in range(9))\n",
    "    for i in range(0, n):\n",
    "\n",
    "        # catalogs\n",
    "        ra = cat.get(i, 'RA')\n",
    "        dec = cat.get(i, 'DEC')\n",
    "        hlr = cat.get(i, 'SIZE')\n",
    "        hlr1.append(hlr)\n",
    "        # more catalogs\n",
    "        elip1 = te1[i]\n",
    "        elip2 = te2[i]\n",
    "        lmag = rband[i]\n",
    "        gflux = 10**((lmag-22.5)/(-2.5))\n",
    "        gfluxes.append(gflux)\n",
    "\n",
    "        gal = galsim.Gaussian(flux=gflux, half_light_radius=hlr)\n",
    "        # shearing and transformation matrix\n",
    "\n",
    "        shearing1 = galsim.Shear(e1=elip1, e2=elip2)\n",
    "        shearing2 = galsim.Shear(e1=-1*elip1, e2=elip2)\n",
    "        gal = gal.shear(shearing1)\n",
    "        matrix = (shearing2.getMatrix())*(hlr**2)*25\n",
    "        _matrices.append(matrix)\n",
    "       # rng = galsim.BaseDeviate(30+i+1)\n",
    "\n",
    "        # create image, convolve\n",
    "\n",
    "        image1 = galsim.ImageF(48, 48)\n",
    "        final1 = galsim.Convolve([gal])\n",
    "        final1.drawImage(image1, scale=0.2)\n",
    "        \n",
    "        image1.addNoise(galsim.GaussianNoise(sigma=0.0005))\n",
    "        _nimages.append(image1)\n",
    "\n",
    "        moment = galsim.hsm.FindAdaptiveMom(image1, strict = False)\n",
    "        _moments.append(moment)\n",
    "        if moment.moments_n_iter == 0:\n",
    "            failures.append(i)\n",
    "    \n",
    "        image3 = galsim.ImageF(48, 48)\n",
    "        noise = galsim.GaussianNoise(sigma=0.0005)\n",
    "    \n",
    "        image3.addNoise(noise)\n",
    "        noisematrix.append(image3.array)\n",
    "    \n",
    "        galsim.fits.writeMulti(nimages, noisy_file_name)\n",
    "        #galsim.fits.writeMulti(nfimages, noisefree_file_name)\n",
    "imagefunc(100)"
   ]
  },
  {
   "cell_type": "code",
   "execution_count": null,
   "metadata": {},
   "outputs": [],
   "source": [
    "imagefunc(100)\n",
    "matrices = [i for j, i in enumerate(_matrices) if j not in failures]\n",
    "nimages = [i for j, i in enumerate(_nimages) if j not in failures]\n",
    "moments = [i for j, i in enumerate(_moments) if j not in failures]\n",
    "print(noisematrix)"
   ]
  },
  {
   "cell_type": "code",
   "execution_count": 193,
   "metadata": {},
   "outputs": [],
   "source": [
    "from astropy.utils.data import get_pkg_data_filename\n",
    "noisy_image_file = get_pkg_data_filename('/afs/slac.stanford.edu/u/ki/gwisk/CRNProject/noisy.fits')\n",
    "#noisefree_image_file = get_pkg_data_filename('/afs/slac.stanford.edu/u/ki/gwisk/CRNProject/noisefree.fits')"
   ]
  },
  {
   "cell_type": "code",
   "execution_count": 197,
   "metadata": {},
   "outputs": [
    {
     "ename": "TypeError",
     "evalue": "image[index] only accepts BoundsI or PositionI for the index",
     "output_type": "error",
     "traceback": [
      "\u001b[0;31m---------------------------------------------------------------------------\u001b[0m",
      "\u001b[0;31mTypeError\u001b[0m                                 Traceback (most recent call last)",
      "\u001b[0;32m<ipython-input-197-87f4e5f5393b>\u001b[0m in \u001b[0;36m<module>\u001b[0;34m\u001b[0m\n\u001b[1;32m     17\u001b[0m \u001b[0;32mfor\u001b[0m \u001b[0mj\u001b[0m \u001b[0;32min\u001b[0m \u001b[0mrange\u001b[0m\u001b[0;34m(\u001b[0m\u001b[0mlen\u001b[0m\u001b[0;34m(\u001b[0m\u001b[0mnimages\u001b[0m\u001b[0;34m)\u001b[0m\u001b[0;34m)\u001b[0m\u001b[0;34m:\u001b[0m\u001b[0;34m\u001b[0m\u001b[0;34m\u001b[0m\u001b[0m\n\u001b[1;32m     18\u001b[0m     \u001b[0mrv\u001b[0m \u001b[0;34m=\u001b[0m \u001b[0mmultivariate_normal\u001b[0m\u001b[0;34m(\u001b[0m\u001b[0;34m[\u001b[0m\u001b[0;36m0\u001b[0m\u001b[0;34m,\u001b[0m \u001b[0;36m0\u001b[0m\u001b[0;34m]\u001b[0m\u001b[0;34m,\u001b[0m \u001b[0mmatrices\u001b[0m\u001b[0;34m[\u001b[0m\u001b[0mj\u001b[0m\u001b[0;34m]\u001b[0m\u001b[0;34m)\u001b[0m\u001b[0;34m\u001b[0m\u001b[0;34m\u001b[0m\u001b[0m\n\u001b[0;32m---> 19\u001b[0;31m     \u001b[0mfoo\u001b[0m \u001b[0;34m=\u001b[0m \u001b[0mnp\u001b[0m\u001b[0;34m.\u001b[0m\u001b[0msum\u001b[0m\u001b[0;34m(\u001b[0m\u001b[0mnp\u001b[0m\u001b[0;34m.\u001b[0m\u001b[0mmultiply\u001b[0m\u001b[0;34m(\u001b[0m\u001b[0mrv\u001b[0m\u001b[0;34m.\u001b[0m\u001b[0mpdf\u001b[0m\u001b[0;34m(\u001b[0m\u001b[0mpos\u001b[0m\u001b[0;34m)\u001b[0m\u001b[0;34m,\u001b[0m \u001b[0mnoisematrix\u001b[0m\u001b[0;34m[\u001b[0m\u001b[0mj\u001b[0m\u001b[0;34m]\u001b[0m\u001b[0;34m)\u001b[0m\u001b[0;34m)\u001b[0m\u001b[0;34m\u001b[0m\u001b[0;34m\u001b[0m\u001b[0m\n\u001b[0m\u001b[1;32m     20\u001b[0m     \u001b[0mcheatflux\u001b[0m\u001b[0;34m.\u001b[0m\u001b[0mappend\u001b[0m\u001b[0;34m(\u001b[0m\u001b[0mfoo\u001b[0m\u001b[0;34m)\u001b[0m\u001b[0;34m\u001b[0m\u001b[0;34m\u001b[0m\u001b[0m\n\u001b[1;32m     21\u001b[0m \u001b[0;34m\u001b[0m\u001b[0m\n",
      "\u001b[0;32m/cvmfs/sw.lsst.eu/linux-x86_64/lsst_distrib/w_2019_27/stack/miniconda3-4.5.12-1172c30/Linux64/galsim/2.1.4.lsst+5/lib/python/galsim/image.py\u001b[0m in \u001b[0;36m__getitem__\u001b[0;34m(self, *args)\u001b[0m\n\u001b[1;32m    640\u001b[0m                 \u001b[0;32mreturn\u001b[0m \u001b[0mself\u001b[0m\u001b[0;34m.\u001b[0m\u001b[0mgetValue\u001b[0m\u001b[0;34m(\u001b[0m\u001b[0;34m*\u001b[0m\u001b[0margs\u001b[0m\u001b[0;34m[\u001b[0m\u001b[0;36m0\u001b[0m\u001b[0;34m]\u001b[0m\u001b[0;34m)\u001b[0m\u001b[0;34m\u001b[0m\u001b[0;34m\u001b[0m\u001b[0m\n\u001b[1;32m    641\u001b[0m             \u001b[0;32melse\u001b[0m\u001b[0;34m:\u001b[0m\u001b[0;34m\u001b[0m\u001b[0;34m\u001b[0m\u001b[0m\n\u001b[0;32m--> 642\u001b[0;31m                 \u001b[0;32mraise\u001b[0m \u001b[0mTypeError\u001b[0m\u001b[0;34m(\u001b[0m\u001b[0;34m\"image[index] only accepts BoundsI or PositionI for the index\"\u001b[0m\u001b[0;34m)\u001b[0m\u001b[0;34m\u001b[0m\u001b[0;34m\u001b[0m\u001b[0m\n\u001b[0m\u001b[1;32m    643\u001b[0m         \u001b[0;32melif\u001b[0m \u001b[0mlen\u001b[0m\u001b[0;34m(\u001b[0m\u001b[0margs\u001b[0m\u001b[0;34m)\u001b[0m \u001b[0;34m==\u001b[0m \u001b[0;36m2\u001b[0m\u001b[0;34m:\u001b[0m\u001b[0;34m\u001b[0m\u001b[0;34m\u001b[0m\u001b[0m\n\u001b[1;32m    644\u001b[0m             \u001b[0;32mreturn\u001b[0m \u001b[0mself\u001b[0m\u001b[0;34m(\u001b[0m\u001b[0;34m*\u001b[0m\u001b[0margs\u001b[0m\u001b[0;34m)\u001b[0m\u001b[0;34m\u001b[0m\u001b[0;34m\u001b[0m\u001b[0m\n",
      "\u001b[0;31mTypeError\u001b[0m: image[index] only accepts BoundsI or PositionI for the index"
     ]
    }
   ],
   "source": [
    "HSMflux = []\n",
    "cheatflux = []\n",
    "newmatrices = []\n",
    "sigmas = []\n",
    "x, y = np.mgrid[-24:24:1, -24:24:1]\n",
    "pos = np.zeros(x.shape + (2,))\n",
    "pos[:, :, 0] = x; pos[:, :, 1] = y\n",
    "for i in range(len(nimages)):\n",
    "    HSMflux.append(moments[i].moments_amp - gfluxes[i])\n",
    "    sigmas.append(moments[i].moments_sigma)\n",
    "    newmatrices.append(moments[i].observed_shape.getMatrix()*(moments[i].moments_sigma)**2 * 25)\n",
    "\n",
    "#for k in range(20):\n",
    "#    print(hlr1[k] - sigmas[k]*0.2)\n",
    "    \n",
    "    \n",
    "for j in range(len(nimages)):\n",
    "    rv = multivariate_normal([0, 0], matrices[j])\n",
    "    foo = np.sum(np.multiply(rv.pdf(pos), noisematrix[j]))\n",
    "    cheatflux.append(foo)\n",
    "    \n",
    "plt.figure()\n",
    "\n",
    "plt.scatter(HSMflux, cheatflux)\n",
    "axes = plt.gca()\n",
    "axes.set_ylim([-0.0005,0.0005])\n"
   ]
  },
  {
   "cell_type": "code",
   "execution_count": null,
   "metadata": {},
   "outputs": [],
   "source": [
    "plt.figure(1)\n",
    "fluxes = []\n",
    "f, ax = plt.subplots(3, 3, figsize=(11, 9))\n",
    "for i in range(9):\n",
    "    image_data = fits.getdata(noisy_image_file, ext = i)\n",
    "    im = ax[i//3, i%3].imshow(image_data, origin=\"lower\")\n",
    "    f.colorbar(im, ax=ax[i//3, i%3])\n",
    "plt.tight_layout(1)"
   ]
  },
  {
   "cell_type": "code",
   "execution_count": 16,
   "metadata": {
    "collapsed": true
   },
   "outputs": [
    {
     "data": {
      "text/plain": [
       "<Figure size 432x288 with 0 Axes>"
      ]
     },
     "metadata": {},
     "output_type": "display_data"
    },
    {
     "data": {
      "image/png": "[encoded data removed]",
      "text/plain": [
       "<Figure size 792x648 with 18 Axes>"
      ]
     },
     "metadata": {
      "needs_background": "light"
     },
     "output_type": "display_data"
    }
   ],
   "source": [
    "plt.figure(2)\n",
    "g, ax = plt.subplots(3, 3, figsize=(11, 9))\n",
    "x, y = np.mgrid[-23.5:24.5:1, -23.5:24.5:1]\n",
    "pos = np.zeros(x.shape + (2,))\n",
    "pos[:, :, 0] = x; pos[:, :, 1] = y\n",
    "\n",
    "for j in range(0, 9):\n",
    "    rv = multivariate_normal([0, 0], matrices[j])\n",
    "  #  im = ax[j//3, j%3].contourf(x, y, gfluxes[j]*rv.pdf(pos))\n",
    "    im = ax[j//3, j%3].imshow(gfluxes[j]*rv.pdf(pos), origin = \"lower\")\n",
    "    f.colorbar(im, ax=ax[j//3, j%3])\n",
    "plt.tight_layout(2)"
   ]
  },
  {
   "cell_type": "code",
   "execution_count": null,
   "metadata": {},
   "outputs": [],
   "source": []
  }
 ],
 "metadata": {
  "kernelspec": {
   "display_name": "Python [conda env:lsst-scipipe-1172c30] *",
   "language": "python",
   "name": "conda-env-lsst-scipipe-1172c30-py"
  },
  "language_info": {
   "codemirror_mode": {
    "name": "ipython",
    "version": 3
   },
   "file_extension": ".py",
   "mimetype": "text/x-python",
   "name": "python",
   "nbconvert_exporter": "python",
   "pygments_lexer": "ipython3",
   "version": "3.7.2"
  }
 },
 "nbformat": 4,
 "nbformat_minor": 2
}
