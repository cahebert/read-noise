{
 "cells": [
  {
   "cell_type": "code",
   "execution_count": 1,
   "metadata": {},
   "outputs": [
    {
     "data": {
      "application/javascript": [
       "IPython.notebook.set_autosave_interval(180000)"
      ]
     },
     "metadata": {},
     "output_type": "display_data"
    },
    {
     "name": "stdout",
     "output_type": "stream",
     "text": [
      "Autosaving every 180 seconds\n"
     ]
    }
   ],
   "source": [
    "%autosave 180"
   ]
  },
  {
   "cell_type": "code",
   "execution_count": 2,
   "metadata": {},
   "outputs": [],
   "source": [
    "%matplotlib inline\n",
    "import numpy as np\n",
    "from scipy.stats import multivariate_normal\n",
    "from matplotlib import pyplot as plt\n",
    "from astropy.utils.data import get_pkg_data_filename\n",
    "import galsim\n",
    "import os\n",
    "import math\n",
    "import logging\n",
    "import sys\n",
    "from astropy.io import fits\n",
    "from astropy.visualization import astropy_mpl_style\n",
    "from astropy.coordinates import SphericalRepresentation, CartesianRepresentation"
   ]
  },
  {
   "cell_type": "code",
   "execution_count": 3,
   "metadata": {},
   "outputs": [],
   "source": [
    "simname = \"/nfs/slac/des/fs1/g/sims/jderose/BCC/Chinchilla/Herd/Chinchilla-4/v1.9.2/addgalspostprocess/mag2/Chinchilla-4-y3wlpz.0.fits\"\n",
    "truthname = \"/nfs/slac/des/fs1/g/sims/jderose/BCC/Chinchilla/Herd/Chinchilla-4/v1.9.2/addgalspostprocess/truth/truth/Chinchilla-4_lensed.4.fits\""
   ]
  },
  {
   "cell_type": "code",
   "execution_count": 4,
   "metadata": {},
   "outputs": [],
   "source": [
    "simhdu = fits.open(simname)\n",
    "truthhdu = fits.open(truthname)\n",
    "sim_table = simhdu[1].data\n",
    "truth_table = truthhdu[1].data\n",
    "#simhdu.info()\n",
    "#print(sim_table.columns);\n",
    "#truthhdu.info()\n",
    "#print(truth_table.columns)"
   ]
  },
  {
   "cell_type": "code",
   "execution_count": 5,
   "metadata": {},
   "outputs": [],
   "source": [
    "cat_file_name = os.path.join('/nfs/slac/des/fs1/g/sims/jderose/BCC/Chinchilla/Herd/Chinchilla-4/v1.9.2/addgalspostprocess/truth/truth/','Chinchilla-4_lensed.4.fits')\n",
    "cat = galsim.Catalog(cat_file_name)"
   ]
  },
  {
   "cell_type": "code",
   "execution_count": 6,
   "metadata": {
    "scrolled": true
   },
   "outputs": [],
   "source": [
    "noisy_file_name = os.path.join('/afs/slac.stanford.edu/u/ki/gwisk/CRNProject','noisy.fits')\n",
    "noisefree_file_name = os.path.join('/afs/slac.stanford.edu/u/ki/gwisk/CRNProject','noisefree.fits')\n",
    "\n",
    "rband = truth_table['LMAG'][:,1] #grizy\n",
    "_ra = truth_table['RA']\n",
    "_dec = truth_table['DEC']\n",
    "_hlr = truth_table['SIZE']\n",
    "te1 = truth_table['EPSILON'][:,0]\n",
    "te2 = truth_table['EPSILON'][:,1]"
   ]
  },
  {
   "cell_type": "markdown",
   "metadata": {},
   "source": [
    "# Timing Tests"
   ]
  },
  {
   "cell_type": "code",
   "execution_count": 7,
   "metadata": {},
   "outputs": [],
   "source": [
    "gaussiannoise = galsim.GaussianNoise(sigma=0.005)\n",
    "x, y = np.mgrid[-24.5:25.5:1, -24.5:25.5:1]\n",
    "pos = np.zeros(x.shape + (2,))\n",
    "pos[:, :, 0] = x; pos[:, :, 1] = y\n",
    "#_nimages, _nfimages, _nmoments, _nfmoments, shearmatrices, noisematrices, _gfluxes, _hlr, failures =([] for i in range(9))\n",
    "\n",
    "def HSMfunc(integer):\n",
    "    failures = []\n",
    "    _nmoments = []\n",
    "    _gfluxes = []\n",
    "    for i in range(integer):\n",
    "        image = galsim.ImageF(50, 50)\n",
    "        # catalogs\n",
    "        hlradius = _hlr[i]   \n",
    "        elip1 = te1[i]\n",
    "        elip2 = te2[i]\n",
    "        lmag = rband[i]\n",
    "        gflux = 10**((lmag-22.5)/(-2.5))\n",
    "        _gfluxes.append(gflux)\n",
    "        #make galaxy\n",
    "        gal = galsim.Gaussian(flux=gflux, half_light_radius=hlradius)\n",
    "        # shearing\n",
    "        #shearing1 = galsim.Shear(e1=elip1, e2=elip2)\n",
    "        gal = gal.shear(galsim.Shear(e1=elip1, e2=elip2))\n",
    "        # create image, convolve\n",
    "        \n",
    "        final = galsim.Convolve([gal])\n",
    "        image = final.drawImage(scale=0.2)\n",
    "        image.addNoise(gaussiannoise)\n",
    "        \n",
    "    \n",
    "        #HSM\n",
    "        nmoment = image.FindAdaptiveMom(strict = False, precision = 1e-3) #,guess_sig=hlradius*5)\n",
    "        _nmoments.append(nmoment)\n",
    "        if nmoment.moments_n_iter == 0:\n",
    "            failures.append(i)\n",
    "    return failures, _nmoments, _gfluxes\n",
    "\n",
    "def cheatfunc(integer):\n",
    "    shearmatrices = []\n",
    "    noisematrices = []\n",
    "    for i in range(integer):\n",
    "        noiseimage = galsim.ImageF(50, 50)\n",
    "        # catalogs\n",
    "        ra = cat.get(i, 'RA')\n",
    "        dec = cat.get(i, 'DEC')\n",
    "        hlradius = cat.get(i, 'SIZE')\n",
    "        \n",
    "        # more catalogs\n",
    "        elip1 = te1[i]\n",
    "        elip2 = te2[i]\n",
    "        lmag = rband[i]\n",
    "        gflux = 10**((lmag-22.5)/(-2.5))\n",
    "\n",
    "        shearing2 = galsim.Shear(e1=-1*elip1, e2=elip2)\n",
    "        matrix = (shearing2.getMatrix())*(hlradius**2)*25\n",
    "        shearmatrices.append(matrix)\n",
    "\n",
    "        noiseimage.addNoise(gaussiannoise)\n",
    "        noisematrices.append(noiseimage.array)\n",
    "        \n",
    "    return shearmatrices, noisematrices"
   ]
  },
  {
   "cell_type": "code",
   "execution_count": 8,
   "metadata": {},
   "outputs": [],
   "source": [
    "shearmatrices, noisematrices = cheatfunc(3000)\n",
    "cheatflux = np.zeros(3000)"
   ]
  },
  {
   "cell_type": "code",
   "execution_count": 11,
   "metadata": {},
   "outputs": [
    {
     "name": "stdout",
     "output_type": "stream",
     "text": [
      "2.59 s ± 338 ms per loop (mean ± std. dev. of 7 runs, 1 loop each)\n"
     ]
    }
   ],
   "source": [
    "%%timeit\n",
    "\n",
    "# look in the book Pat sent\n",
    "for j in range(3000):\n",
    "    rv = multivariate_normal([0, 0], shearmatrices[j])\n",
    "    cheatflux[j] = np.sum(np.multiply(rv.pdf(pos), noisematrices[j])/np.sum(rv.pdf(pos)))\n",
    "#2.45 s ± 307 ms per loop (mean ± std. dev. of 7 runs, 1 loop each)"
   ]
  },
  {
   "cell_type": "code",
   "execution_count": null,
   "metadata": {},
   "outputs": [],
   "source": [
    "%%timeit\n",
    "failures, _nmoments, _gfluxes = HSMfunc(3000)\n",
    "nmoments = [i for j, i in enumerate(_nmoments) if j not in failures]\n",
    "gfluxes = [i for j, i in enumerate(_gfluxes) if j not in failures]\n",
    "HSMflux = np.zeros(len(nmoments))\n",
    "for k in range(len(nmoments)):\n",
    "    HSMflux[k] = nmoments[k].moments_amp - gfluxes[k]\n",
    "    #10.8 s ± 1.77 s per loop (mean ± std. dev. of 7 runs, 1 loop each) for 3000 runs, default precision "
   ]
  },
  {
   "cell_type": "markdown",
   "metadata": {},
   "source": [
    "# Tests Below"
   ]
  },
  {
   "cell_type": "code",
   "execution_count": 12,
   "metadata": {},
   "outputs": [
    {
     "ename": "URLError",
     "evalue": "<urlopen error Failed to download /afs/slac.stanford.edu/u/ki/gwisk/CRNProject/noisy.fits from the following repositories:\n\n  - http://data.astropy.org/\n  - http://www.astropy.org/astropy-data/>",
     "output_type": "error",
     "traceback": [
      "\u001b[0;31m---------------------------------------------------------------------------\u001b[0m",
      "\u001b[0;31mURLError\u001b[0m                                  Traceback (most recent call last)",
      "\u001b[0;32m<ipython-input-12-28af2450003b>\u001b[0m in \u001b[0;36m<module>\u001b[0;34m\u001b[0m\n\u001b[0;32m----> 1\u001b[0;31m \u001b[0mnoisy_image_file\u001b[0m \u001b[0;34m=\u001b[0m \u001b[0mget_pkg_data_filename\u001b[0m\u001b[0;34m(\u001b[0m\u001b[0;34m'/afs/slac.stanford.edu/u/ki/gwisk/CRNProject/noisy.fits'\u001b[0m\u001b[0;34m)\u001b[0m\u001b[0;34m\u001b[0m\u001b[0;34m\u001b[0m\u001b[0m\n\u001b[0m",
      "\u001b[0;32m/cvmfs/sw.lsst.eu/linux-x86_64/lsst_distrib/w_2019_27/python/miniconda3-4.5.12/envs/lsst-scipipe-1172c30/lib/python3.7/site-packages/astropy/utils/data.py\u001b[0m in \u001b[0;36mget_pkg_data_filename\u001b[0;34m(data_name, package, show_progress, remote_timeout)\u001b[0m\n\u001b[1;32m    591\u001b[0m             \u001b[0murls\u001b[0m \u001b[0;34m=\u001b[0m \u001b[0;34m'\\n'\u001b[0m\u001b[0;34m.\u001b[0m\u001b[0mjoin\u001b[0m\u001b[0;34m(\u001b[0m\u001b[0;34m'  - {0}'\u001b[0m\u001b[0;34m.\u001b[0m\u001b[0mformat\u001b[0m\u001b[0;34m(\u001b[0m\u001b[0murl\u001b[0m\u001b[0;34m)\u001b[0m \u001b[0;32mfor\u001b[0m \u001b[0murl\u001b[0m \u001b[0;32min\u001b[0m \u001b[0mall_urls\u001b[0m\u001b[0;34m)\u001b[0m\u001b[0;34m\u001b[0m\u001b[0;34m\u001b[0m\u001b[0m\n\u001b[1;32m    592\u001b[0m             raise urllib.error.URLError(\"Failed to download {0} from the following \"\n\u001b[0;32m--> 593\u001b[0;31m                                         \"repositories:\\n\\n{1}\".format(data_name, urls))\n\u001b[0m\u001b[1;32m    594\u001b[0m \u001b[0;34m\u001b[0m\u001b[0m\n\u001b[1;32m    595\u001b[0m \u001b[0;34m\u001b[0m\u001b[0m\n",
      "\u001b[0;31mURLError\u001b[0m: <urlopen error Failed to download /afs/slac.stanford.edu/u/ki/gwisk/CRNProject/noisy.fits from the following repositories:\n\n  - http://data.astropy.org/\n  - http://www.astropy.org/astropy-data/>"
     ]
    }
   ],
   "source": [
    "noisy_image_file = get_pkg_data_filename('/afs/slac.stanford.edu/u/ki/gwisk/CRNProject/noisy.fits')"
   ]
  },
  {
   "cell_type": "code",
   "execution_count": null,
   "metadata": {},
   "outputs": [],
   "source": [
    "HSMflux = np.zeros(len(nimages))\n",
    "#HSMflux1 = np.zeros(len(nimages))\n",
    "#x, y = np.mgrid[-5:5:.2, -5:5:.2]\n",
    "cheatflux = np.zeros(len(nimages))\n",
    "sigmas = []\n",
    "\n",
    "x, y = np.mgrid[-24.5:25.5:1, -24.5:25.5:1]\n",
    "pos = np.zeros(x.shape + (2,))\n",
    "pos[:, :, 0] = x; pos[:, :, 1] = y\n",
    "for k in range(len(nimages)):\n",
    "    HSMflux[k] = (nmoments[k].moments_amp) #-  nfmoments[k].moments_amp)# -  gfluxes[k]))\n",
    "   # HSMflux1[k] = nfmoments[k].moments_amp\n",
    "\n",
    "for j in range(len(nimages)):\n",
    "    rv = multivariate_normal([0, 0], shearmatrices[j])\n",
    "    foo = np.sum(np.multiply (rv.pdf(pos), noisematrices[j] + nfimages[j].array)/np.sum(rv.pdf(pos)))\n",
    "    foo = np.sum(np.multiply (rv.pdf(pos), nfimages[j].array))\n",
    "    cheatflux[j] = foo\n",
    "\n",
    "plt.figure()\n",
    "plt.scatter(cheatflux, gfluxes)\n"
   ]
  },
  {
   "cell_type": "code",
   "execution_count": null,
   "metadata": {},
   "outputs": [],
   "source": [
    "plt.figure(1)\n",
    "fluxes = []\n",
    "f, ax = plt.subplots(3, 3, figsize=(11, 9))\n",
    "for i in range(9):\n",
    "    image_data = fits.getdata(noisy_image_file, ext = i)\n",
    "    im = ax[i//3, i%3].imshow(image_data, origin=\"lower\")\n",
    "    f.colorbar(im, ax=ax[i//3, i%3])\n",
    "plt.tight_layout(1)"
   ]
  },
  {
   "cell_type": "code",
   "execution_count": null,
   "metadata": {},
   "outputs": [],
   "source": [
    "plt.figure(2)\n",
    "g, ax = plt.subplots(3, 3, figsize=(11, 9))\n",
    "#x, y = np.mgrid[-.24:.24:.01, -.24:.24:.01]\n",
    "x, y = np.mgrid[-.5:.5:.02, -.5:.5:.02]\n",
    "\n",
    "pos = np.zeros(x.shape + (2,))\n",
    "pos[:, :, 0] = x; pos[:, :, 1] = y\n",
    "#np.multiply(rv.pdf(pos),\n",
    "for j in range(0, 9):\n",
    "    rv = multivariate_normal([0, 0], shearmatrices[j])\n",
    "    im = ax[j//3, j%3].imshow(np.multiply(rv.pdf(pos), noisematrices[j] + nfimages[j].array), origin = \"lower\")\n",
    "    #im = ax[j//3, j%3].imshow(noisematrices[j], origin = \"lower\")\n",
    "    g.colorbar(im, ax=ax[j//3, j%3])\n",
    "plt.tight_layout(2)"
   ]
  },
  {
   "cell_type": "code",
   "execution_count": 13,
   "metadata": {},
   "outputs": [
    {
     "ename": "PermissionError",
     "evalue": "[Errno 13] Permission denied: '/afs/slac.stanford.edu/u/ki/gwisk/CRNProject/noisy.fits'",
     "output_type": "error",
     "traceback": [
      "\u001b[0;31m---------------------------------------------------------------------------\u001b[0m",
      "\u001b[0;31mPermissionError\u001b[0m                           Traceback (most recent call last)",
      "\u001b[0;32m<ipython-input-13-3f86a4708f8e>\u001b[0m in \u001b[0;36m<module>\u001b[0;34m\u001b[0m\n\u001b[1;32m     53\u001b[0m \u001b[0;34m\u001b[0m\u001b[0m\n\u001b[1;32m     54\u001b[0m \u001b[0;34m\u001b[0m\u001b[0m\n\u001b[0;32m---> 55\u001b[0;31m \u001b[0mimagefunc\u001b[0m\u001b[0;34m(\u001b[0m\u001b[0;36m500\u001b[0m\u001b[0;34m)\u001b[0m\u001b[0;34m\u001b[0m\u001b[0;34m\u001b[0m\u001b[0m\n\u001b[0m\u001b[1;32m     56\u001b[0m \u001b[0mnimages\u001b[0m \u001b[0;34m=\u001b[0m \u001b[0;34m[\u001b[0m\u001b[0mi\u001b[0m \u001b[0;32mfor\u001b[0m \u001b[0mj\u001b[0m\u001b[0;34m,\u001b[0m \u001b[0mi\u001b[0m \u001b[0;32min\u001b[0m \u001b[0menumerate\u001b[0m\u001b[0;34m(\u001b[0m\u001b[0m_nimages\u001b[0m\u001b[0;34m)\u001b[0m \u001b[0;32mif\u001b[0m \u001b[0mj\u001b[0m \u001b[0;32mnot\u001b[0m \u001b[0;32min\u001b[0m \u001b[0mfailures\u001b[0m\u001b[0;34m]\u001b[0m\u001b[0;34m\u001b[0m\u001b[0;34m\u001b[0m\u001b[0m\n\u001b[1;32m     57\u001b[0m \u001b[0mnmoments\u001b[0m \u001b[0;34m=\u001b[0m \u001b[0;34m[\u001b[0m\u001b[0mi\u001b[0m \u001b[0;32mfor\u001b[0m \u001b[0mj\u001b[0m\u001b[0;34m,\u001b[0m \u001b[0mi\u001b[0m \u001b[0;32min\u001b[0m \u001b[0menumerate\u001b[0m\u001b[0;34m(\u001b[0m\u001b[0m_nmoments\u001b[0m\u001b[0;34m)\u001b[0m \u001b[0;32mif\u001b[0m \u001b[0mj\u001b[0m \u001b[0;32mnot\u001b[0m \u001b[0;32min\u001b[0m \u001b[0mfailures\u001b[0m\u001b[0;34m]\u001b[0m\u001b[0;34m\u001b[0m\u001b[0;34m\u001b[0m\u001b[0m\n",
      "\u001b[0;32m<ipython-input-13-3f86a4708f8e>\u001b[0m in \u001b[0;36mimagefunc\u001b[0;34m(integer)\u001b[0m\n\u001b[1;32m     49\u001b[0m         \u001b[0m_noisematrices\u001b[0m\u001b[0;34m.\u001b[0m\u001b[0mappend\u001b[0m\u001b[0;34m(\u001b[0m\u001b[0mnoiseimage\u001b[0m\u001b[0;34m.\u001b[0m\u001b[0marray\u001b[0m\u001b[0;34m)\u001b[0m\u001b[0;34m\u001b[0m\u001b[0;34m\u001b[0m\u001b[0m\n\u001b[1;32m     50\u001b[0m     \u001b[0;31m#print(np.mean(hlr))\u001b[0m\u001b[0;34m\u001b[0m\u001b[0;34m\u001b[0m\u001b[0;34m\u001b[0m\u001b[0m\n\u001b[0;32m---> 51\u001b[0;31m     \u001b[0mgalsim\u001b[0m\u001b[0;34m.\u001b[0m\u001b[0mfits\u001b[0m\u001b[0;34m.\u001b[0m\u001b[0mwriteMulti\u001b[0m\u001b[0;34m(\u001b[0m\u001b[0m_nimages\u001b[0m\u001b[0;34m,\u001b[0m \u001b[0mnoisy_file_name\u001b[0m\u001b[0;34m)\u001b[0m\u001b[0;34m\u001b[0m\u001b[0;34m\u001b[0m\u001b[0m\n\u001b[0m\u001b[1;32m     52\u001b[0m     \u001b[0;32mreturn\u001b[0m \u001b[0m_nimages\u001b[0m\u001b[0;34m,\u001b[0m \u001b[0m_nfimages\u001b[0m\u001b[0;34m,\u001b[0m \u001b[0m_nmoments\u001b[0m\u001b[0;34m,\u001b[0m \u001b[0m_nfmoments\u001b[0m\u001b[0;34m,\u001b[0m \u001b[0m_shearmatrices\u001b[0m\u001b[0;34m,\u001b[0m \u001b[0m_noisematrices\u001b[0m\u001b[0;34m,\u001b[0m \u001b[0m_gfluxes\u001b[0m\u001b[0;34m,\u001b[0m \u001b[0m_hlr\u001b[0m\u001b[0;34m,\u001b[0m \u001b[0mfailures\u001b[0m\u001b[0;34m\u001b[0m\u001b[0;34m\u001b[0m\u001b[0m\n\u001b[1;32m     53\u001b[0m \u001b[0;34m\u001b[0m\u001b[0m\n",
      "\u001b[0;32m/cvmfs/sw.lsst.eu/linux-x86_64/lsst_distrib/w_2019_27/stack/miniconda3-4.5.12-1172c30/Linux64/galsim/2.1.4.lsst+5/lib/python/galsim/fits.py\u001b[0m in \u001b[0;36mwriteMulti\u001b[0;34m(image_list, file_name, dir, hdu_list, clobber, compression)\u001b[0m\n\u001b[1;32m    509\u001b[0m \u001b[0;34m\u001b[0m\u001b[0m\n\u001b[1;32m    510\u001b[0m     \u001b[0;32mif\u001b[0m \u001b[0mfile_name\u001b[0m\u001b[0;34m:\u001b[0m\u001b[0;34m\u001b[0m\u001b[0;34m\u001b[0m\u001b[0m\n\u001b[0;32m--> 511\u001b[0;31m         \u001b[0m_write_file\u001b[0m\u001b[0;34m(\u001b[0m\u001b[0mfile_name\u001b[0m\u001b[0;34m,\u001b[0m \u001b[0mdir\u001b[0m\u001b[0;34m,\u001b[0m \u001b[0mhdu_list\u001b[0m\u001b[0;34m,\u001b[0m \u001b[0mclobber\u001b[0m\u001b[0;34m,\u001b[0m \u001b[0mfile_compress\u001b[0m\u001b[0;34m,\u001b[0m \u001b[0mpyfits_compress\u001b[0m\u001b[0;34m)\u001b[0m\u001b[0;34m\u001b[0m\u001b[0;34m\u001b[0m\u001b[0m\n\u001b[0m\u001b[1;32m    512\u001b[0m \u001b[0;34m\u001b[0m\u001b[0m\n\u001b[1;32m    513\u001b[0m \u001b[0;34m\u001b[0m\u001b[0m\n",
      "\u001b[0;32m/cvmfs/sw.lsst.eu/linux-x86_64/lsst_distrib/w_2019_27/stack/miniconda3-4.5.12-1172c30/Linux64/galsim/2.1.4.lsst+5/lib/python/galsim/fits.py\u001b[0m in \u001b[0;36m__call__\u001b[0;34m(self, file, dir, hdu_list, clobber, file_compress, pyfits_compress)\u001b[0m\n\u001b[1;32m    280\u001b[0m \u001b[0;34m\u001b[0m\u001b[0m\n\u001b[1;32m    281\u001b[0m         \u001b[0;32mif\u001b[0m \u001b[0;32mnot\u001b[0m \u001b[0mfile_compress\u001b[0m\u001b[0;34m:\u001b[0m\u001b[0;34m\u001b[0m\u001b[0;34m\u001b[0m\u001b[0m\n\u001b[0;32m--> 282\u001b[0;31m             \u001b[0mhdu_list\u001b[0m\u001b[0;34m.\u001b[0m\u001b[0mwriteto\u001b[0m\u001b[0;34m(\u001b[0m\u001b[0mfile\u001b[0m\u001b[0;34m)\u001b[0m\u001b[0;34m\u001b[0m\u001b[0;34m\u001b[0m\u001b[0m\n\u001b[0m\u001b[1;32m    283\u001b[0m         \u001b[0;32melif\u001b[0m \u001b[0mfile_compress\u001b[0m \u001b[0;34m==\u001b[0m \u001b[0;34m'gzip'\u001b[0m\u001b[0;34m:\u001b[0m\u001b[0;34m\u001b[0m\u001b[0;34m\u001b[0m\u001b[0m\n\u001b[1;32m    284\u001b[0m             \u001b[0;32mwhile\u001b[0m \u001b[0mself\u001b[0m\u001b[0;34m.\u001b[0m\u001b[0mgz_index\u001b[0m \u001b[0;34m<\u001b[0m \u001b[0mlen\u001b[0m\u001b[0;34m(\u001b[0m\u001b[0mself\u001b[0m\u001b[0;34m.\u001b[0m\u001b[0mgz_methods\u001b[0m\u001b[0;34m)\u001b[0m\u001b[0;34m:\u001b[0m\u001b[0;34m\u001b[0m\u001b[0;34m\u001b[0m\u001b[0m\n",
      "\u001b[0;32m/cvmfs/sw.lsst.eu/linux-x86_64/lsst_distrib/w_2019_27/python/miniconda3-4.5.12/envs/lsst-scipipe-1172c30/lib/python3.7/site-packages/astropy/utils/decorators.py\u001b[0m in \u001b[0;36mwrapper\u001b[0;34m(*args, **kwargs)\u001b[0m\n\u001b[1;32m    519\u001b[0m                             \u001b[0mkwargs\u001b[0m\u001b[0;34m[\u001b[0m\u001b[0mnew_name\u001b[0m\u001b[0;34m[\u001b[0m\u001b[0mi\u001b[0m\u001b[0;34m]\u001b[0m\u001b[0;34m]\u001b[0m \u001b[0;34m=\u001b[0m \u001b[0mvalue\u001b[0m\u001b[0;34m\u001b[0m\u001b[0;34m\u001b[0m\u001b[0m\n\u001b[1;32m    520\u001b[0m \u001b[0;34m\u001b[0m\u001b[0m\n\u001b[0;32m--> 521\u001b[0;31m             \u001b[0;32mreturn\u001b[0m \u001b[0mfunction\u001b[0m\u001b[0;34m(\u001b[0m\u001b[0;34m*\u001b[0m\u001b[0margs\u001b[0m\u001b[0;34m,\u001b[0m \u001b[0;34m**\u001b[0m\u001b[0mkwargs\u001b[0m\u001b[0;34m)\u001b[0m\u001b[0;34m\u001b[0m\u001b[0;34m\u001b[0m\u001b[0m\n\u001b[0m\u001b[1;32m    522\u001b[0m \u001b[0;34m\u001b[0m\u001b[0m\n\u001b[1;32m    523\u001b[0m         \u001b[0;32mreturn\u001b[0m \u001b[0mwrapper\u001b[0m\u001b[0;34m\u001b[0m\u001b[0;34m\u001b[0m\u001b[0m\n",
      "\u001b[0;32m/cvmfs/sw.lsst.eu/linux-x86_64/lsst_distrib/w_2019_27/python/miniconda3-4.5.12/envs/lsst-scipipe-1172c30/lib/python3.7/site-packages/astropy/io/fits/hdu/hdulist.py\u001b[0m in \u001b[0;36mwriteto\u001b[0;34m(self, fileobj, output_verify, overwrite, checksum)\u001b[0m\n\u001b[1;32m    917\u001b[0m         \u001b[0;31m# This can accept an open file object that's open to write only, or in\u001b[0m\u001b[0;34m\u001b[0m\u001b[0;34m\u001b[0m\u001b[0;34m\u001b[0m\u001b[0m\n\u001b[1;32m    918\u001b[0m         \u001b[0;31m# append/update modes but only if the file doesn't exist.\u001b[0m\u001b[0;34m\u001b[0m\u001b[0;34m\u001b[0m\u001b[0;34m\u001b[0m\u001b[0m\n\u001b[0;32m--> 919\u001b[0;31m         \u001b[0mfileobj\u001b[0m \u001b[0;34m=\u001b[0m \u001b[0m_File\u001b[0m\u001b[0;34m(\u001b[0m\u001b[0mfileobj\u001b[0m\u001b[0;34m,\u001b[0m \u001b[0mmode\u001b[0m\u001b[0;34m=\u001b[0m\u001b[0mmode\u001b[0m\u001b[0;34m,\u001b[0m \u001b[0moverwrite\u001b[0m\u001b[0;34m=\u001b[0m\u001b[0moverwrite\u001b[0m\u001b[0;34m)\u001b[0m\u001b[0;34m\u001b[0m\u001b[0;34m\u001b[0m\u001b[0m\n\u001b[0m\u001b[1;32m    920\u001b[0m         \u001b[0mhdulist\u001b[0m \u001b[0;34m=\u001b[0m \u001b[0mself\u001b[0m\u001b[0;34m.\u001b[0m\u001b[0mfromfile\u001b[0m\u001b[0;34m(\u001b[0m\u001b[0mfileobj\u001b[0m\u001b[0;34m)\u001b[0m\u001b[0;34m\u001b[0m\u001b[0;34m\u001b[0m\u001b[0m\n\u001b[1;32m    921\u001b[0m         \u001b[0;32mtry\u001b[0m\u001b[0;34m:\u001b[0m\u001b[0;34m\u001b[0m\u001b[0;34m\u001b[0m\u001b[0m\n",
      "\u001b[0;32m/cvmfs/sw.lsst.eu/linux-x86_64/lsst_distrib/w_2019_27/python/miniconda3-4.5.12/envs/lsst-scipipe-1172c30/lib/python3.7/site-packages/astropy/utils/decorators.py\u001b[0m in \u001b[0;36mwrapper\u001b[0;34m(*args, **kwargs)\u001b[0m\n\u001b[1;32m    519\u001b[0m                             \u001b[0mkwargs\u001b[0m\u001b[0;34m[\u001b[0m\u001b[0mnew_name\u001b[0m\u001b[0;34m[\u001b[0m\u001b[0mi\u001b[0m\u001b[0;34m]\u001b[0m\u001b[0;34m]\u001b[0m \u001b[0;34m=\u001b[0m \u001b[0mvalue\u001b[0m\u001b[0;34m\u001b[0m\u001b[0;34m\u001b[0m\u001b[0m\n\u001b[1;32m    520\u001b[0m \u001b[0;34m\u001b[0m\u001b[0m\n\u001b[0;32m--> 521\u001b[0;31m             \u001b[0;32mreturn\u001b[0m \u001b[0mfunction\u001b[0m\u001b[0;34m(\u001b[0m\u001b[0;34m*\u001b[0m\u001b[0margs\u001b[0m\u001b[0;34m,\u001b[0m \u001b[0;34m**\u001b[0m\u001b[0mkwargs\u001b[0m\u001b[0;34m)\u001b[0m\u001b[0;34m\u001b[0m\u001b[0;34m\u001b[0m\u001b[0m\n\u001b[0m\u001b[1;32m    522\u001b[0m \u001b[0;34m\u001b[0m\u001b[0m\n\u001b[1;32m    523\u001b[0m         \u001b[0;32mreturn\u001b[0m \u001b[0mwrapper\u001b[0m\u001b[0;34m\u001b[0m\u001b[0;34m\u001b[0m\u001b[0m\n",
      "\u001b[0;32m/cvmfs/sw.lsst.eu/linux-x86_64/lsst_distrib/w_2019_27/python/miniconda3-4.5.12/envs/lsst-scipipe-1172c30/lib/python3.7/site-packages/astropy/io/fits/file.py\u001b[0m in \u001b[0;36m__init__\u001b[0;34m(self, fileobj, mode, memmap, overwrite, cache)\u001b[0m\n\u001b[1;32m    176\u001b[0m             \u001b[0mself\u001b[0m\u001b[0;34m.\u001b[0m\u001b[0m_open_fileobj\u001b[0m\u001b[0;34m(\u001b[0m\u001b[0mfileobj\u001b[0m\u001b[0;34m,\u001b[0m \u001b[0mmode\u001b[0m\u001b[0;34m,\u001b[0m \u001b[0moverwrite\u001b[0m\u001b[0;34m)\u001b[0m\u001b[0;34m\u001b[0m\u001b[0;34m\u001b[0m\u001b[0m\n\u001b[1;32m    177\u001b[0m         \u001b[0;32melif\u001b[0m \u001b[0misinstance\u001b[0m\u001b[0;34m(\u001b[0m\u001b[0mfileobj\u001b[0m\u001b[0;34m,\u001b[0m \u001b[0mstr\u001b[0m\u001b[0;34m)\u001b[0m\u001b[0;34m:\u001b[0m\u001b[0;34m\u001b[0m\u001b[0;34m\u001b[0m\u001b[0m\n\u001b[0;32m--> 178\u001b[0;31m             \u001b[0mself\u001b[0m\u001b[0;34m.\u001b[0m\u001b[0m_open_filename\u001b[0m\u001b[0;34m(\u001b[0m\u001b[0mfileobj\u001b[0m\u001b[0;34m,\u001b[0m \u001b[0mmode\u001b[0m\u001b[0;34m,\u001b[0m \u001b[0moverwrite\u001b[0m\u001b[0;34m)\u001b[0m\u001b[0;34m\u001b[0m\u001b[0;34m\u001b[0m\u001b[0m\n\u001b[0m\u001b[1;32m    179\u001b[0m         \u001b[0;32melse\u001b[0m\u001b[0;34m:\u001b[0m\u001b[0;34m\u001b[0m\u001b[0;34m\u001b[0m\u001b[0m\n\u001b[1;32m    180\u001b[0m             \u001b[0mself\u001b[0m\u001b[0;34m.\u001b[0m\u001b[0m_open_filelike\u001b[0m\u001b[0;34m(\u001b[0m\u001b[0mfileobj\u001b[0m\u001b[0;34m,\u001b[0m \u001b[0mmode\u001b[0m\u001b[0;34m,\u001b[0m \u001b[0moverwrite\u001b[0m\u001b[0;34m)\u001b[0m\u001b[0;34m\u001b[0m\u001b[0;34m\u001b[0m\u001b[0m\n",
      "\u001b[0;32m/cvmfs/sw.lsst.eu/linux-x86_64/lsst_distrib/w_2019_27/python/miniconda3-4.5.12/envs/lsst-scipipe-1172c30/lib/python3.7/site-packages/astropy/io/fits/file.py\u001b[0m in \u001b[0;36m_open_filename\u001b[0;34m(self, filename, mode, overwrite)\u001b[0m\n\u001b[1;32m    553\u001b[0m \u001b[0;34m\u001b[0m\u001b[0m\n\u001b[1;32m    554\u001b[0m         \u001b[0;32mif\u001b[0m \u001b[0;32mnot\u001b[0m \u001b[0mself\u001b[0m\u001b[0;34m.\u001b[0m\u001b[0m_try_read_compressed\u001b[0m\u001b[0;34m(\u001b[0m\u001b[0mself\u001b[0m\u001b[0;34m.\u001b[0m\u001b[0mname\u001b[0m\u001b[0;34m,\u001b[0m \u001b[0mmagic\u001b[0m\u001b[0;34m,\u001b[0m \u001b[0mmode\u001b[0m\u001b[0;34m,\u001b[0m \u001b[0mext\u001b[0m\u001b[0;34m=\u001b[0m\u001b[0mext\u001b[0m\u001b[0;34m)\u001b[0m\u001b[0;34m:\u001b[0m\u001b[0;34m\u001b[0m\u001b[0;34m\u001b[0m\u001b[0m\n\u001b[0;32m--> 555\u001b[0;31m             \u001b[0mself\u001b[0m\u001b[0;34m.\u001b[0m\u001b[0m_file\u001b[0m \u001b[0;34m=\u001b[0m \u001b[0mfileobj_open\u001b[0m\u001b[0;34m(\u001b[0m\u001b[0mself\u001b[0m\u001b[0;34m.\u001b[0m\u001b[0mname\u001b[0m\u001b[0;34m,\u001b[0m \u001b[0mIO_FITS_MODES\u001b[0m\u001b[0;34m[\u001b[0m\u001b[0mmode\u001b[0m\u001b[0;34m]\u001b[0m\u001b[0;34m)\u001b[0m\u001b[0;34m\u001b[0m\u001b[0;34m\u001b[0m\u001b[0m\n\u001b[0m\u001b[1;32m    556\u001b[0m             \u001b[0mself\u001b[0m\u001b[0;34m.\u001b[0m\u001b[0mclose_on_error\u001b[0m \u001b[0;34m=\u001b[0m \u001b[0;32mTrue\u001b[0m\u001b[0;34m\u001b[0m\u001b[0;34m\u001b[0m\u001b[0m\n\u001b[1;32m    557\u001b[0m \u001b[0;34m\u001b[0m\u001b[0m\n",
      "\u001b[0;32m/cvmfs/sw.lsst.eu/linux-x86_64/lsst_distrib/w_2019_27/python/miniconda3-4.5.12/envs/lsst-scipipe-1172c30/lib/python3.7/site-packages/astropy/io/fits/util.py\u001b[0m in \u001b[0;36mfileobj_open\u001b[0;34m(filename, mode)\u001b[0m\n\u001b[1;32m    386\u001b[0m     \"\"\"\n\u001b[1;32m    387\u001b[0m \u001b[0;34m\u001b[0m\u001b[0m\n\u001b[0;32m--> 388\u001b[0;31m     \u001b[0;32mreturn\u001b[0m \u001b[0mopen\u001b[0m\u001b[0;34m(\u001b[0m\u001b[0mfilename\u001b[0m\u001b[0;34m,\u001b[0m \u001b[0mmode\u001b[0m\u001b[0;34m,\u001b[0m \u001b[0mbuffering\u001b[0m\u001b[0;34m=\u001b[0m\u001b[0;36m0\u001b[0m\u001b[0;34m)\u001b[0m\u001b[0;34m\u001b[0m\u001b[0;34m\u001b[0m\u001b[0m\n\u001b[0m\u001b[1;32m    389\u001b[0m \u001b[0;34m\u001b[0m\u001b[0m\n\u001b[1;32m    390\u001b[0m \u001b[0;34m\u001b[0m\u001b[0m\n",
      "\u001b[0;31mPermissionError\u001b[0m: [Errno 13] Permission denied: '/afs/slac.stanford.edu/u/ki/gwisk/CRNProject/noisy.fits'"
     ]
    }
   ],
   "source": [
    "# half light radius squared/flux\n",
    "_nimages, _nfimages, _nmoments, _nfmoments, _shearmatrices, _noisematrices, _gfluxes, _hlr, failures =([] for i in range(9))\n",
    "def imagefunc(integer):\n",
    "    for i in range(integer):\n",
    "        # catalogs\n",
    "        ra = cat.get(i, 'RA')\n",
    "        dec = cat.get(i, 'DEC')\n",
    "        hlradius = cat.get(i, 'SIZE')\n",
    "        _hlr.append(hlradius)\n",
    "        \n",
    "        # more catalogs\n",
    "        elip1 = te1[i]\n",
    "        elip2 = te2[i]\n",
    "        lmag = rband[i]\n",
    "        gflux = 10**((lmag-22.5)/(-2.5))\n",
    "        _gfluxes.append(gflux)\n",
    "        #make galaxy\n",
    "        gal = galsim.Gaussian(flux=gflux, half_light_radius=hlradius)\n",
    "        # shearing\n",
    "        shearing1 = galsim.Shear(e1=elip1, e2=elip2)\n",
    "        shearing2 = galsim.Shear(e1=-1*elip1, e2=elip2)\n",
    "        gal = gal.shear(shearing1)\n",
    "        matrix = (shearing2.getMatrix())*(hlradius**2)*25\n",
    "        _shearmatrices.append(matrix)\n",
    "\n",
    "        # create image, convolve\n",
    "\n",
    "        nfimage = galsim.ImageF(50, 50)\n",
    "        nimage = galsim.ImageF(50, 50)\n",
    "        noisefreefinal = galsim.Convolve([gal])\n",
    "        noisefinal = galsim.Convolve([gal])\n",
    "        noisefreefinal.drawImage(nfimage, scale=0.2)\n",
    "        noisefinal.drawImage(nimage, scale=0.2)\n",
    "        #noisefree\n",
    "        nfmoment = galsim.hsm.FindAdaptiveMom(nfimage, strict = False, guess_sig = hlradius*5)\n",
    "        _nfmoments.append(nfmoment)\n",
    "        _nfimages.append(nfimage)\n",
    "        #noisy\n",
    "        nimage.addNoise(galsim.GaussianNoise(sigma=0.005))\n",
    "        _nimages.append(nimage)\n",
    "        nmoment = galsim.hsm.FindAdaptiveMom(nimage, strict = False,  guess_sig=hlradius*5)\n",
    "        _nmoments.append(nmoment)\n",
    "\n",
    "        if nmoment.moments_n_iter == 0:\n",
    "            failures.append(i)\n",
    "        noiseimage = galsim.ImageF(50, 50)\n",
    "        noise = galsim.GaussianNoise(sigma=0.005)\n",
    "        noiseimage.addNoise(noise)\n",
    "        _noisematrices.append(noiseimage.array)\n",
    "    #print(np.mean(hlr))\n",
    "    galsim.fits.writeMulti(_nimages, noisy_file_name)\n",
    "    return _nimages, _nfimages, _nmoments, _nfmoments, _shearmatrices, _noisematrices, _gfluxes, _hlr, failures\n",
    "\n",
    "\n",
    "imagefunc(500)\n",
    "nimages = [i for j, i in enumerate(_nimages) if j not in failures]\n",
    "nmoments = [i for j, i in enumerate(_nmoments) if j not in failures]\n",
    "nfmoments = [i for j, i in enumerate(_nfmoments) if j not in failures]\n",
    "shearmatrices = [i for j, i in enumerate(_shearmatrices) if j not in failures]\n",
    "noisematrices = [i for j, i in enumerate(_noisematrices) if j not in failures]\n",
    "gfluxes = [i for j, i in enumerate(_gfluxes) if j not in failures]\n",
    "hlr = [i for j, i in enumerate(_hlr) if j not in failures]\n",
    "nfimages = [i for j, i in enumerate(_nfimages) if j not in failures]"
   ]
  },
  {
   "cell_type": "code",
   "execution_count": null,
   "metadata": {},
   "outputs": [],
   "source": []
  }
 ],
 "metadata": {
  "kernelspec": {
   "display_name": "Python [conda env:lsst-scipipe-1172c30] *",
   "language": "python",
   "name": "conda-env-lsst-scipipe-1172c30-py"
  },
  "language_info": {
   "codemirror_mode": {
    "name": "ipython",
    "version": 3
   },
   "file_extension": ".py",
   "mimetype": "text/x-python",
   "name": "python",
   "nbconvert_exporter": "python",
   "pygments_lexer": "ipython3",
   "version": "3.7.2"
  }
 },
 "nbformat": 4,
 "nbformat_minor": 2
}
