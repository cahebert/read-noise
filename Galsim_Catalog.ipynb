{
 "cells": [
  {
   "cell_type": "code",
   "execution_count": 1,
   "metadata": {},
   "outputs": [
    {
     "data": {
      "application/javascript": [
       "IPython.notebook.set_autosave_interval(180000)"
      ]
     },
     "metadata": {},
     "output_type": "display_data"
    },
    {
     "name": "stdout",
     "output_type": "stream",
     "text": [
      "Autosaving every 180 seconds\n"
     ]
    }
   ],
   "source": [
    "%autosave 180"
   ]
  },
  {
   "cell_type": "code",
   "execution_count": 2,
   "metadata": {},
   "outputs": [],
   "source": [
    "%matplotlib inline\n",
    "import numpy as np\n",
    "from scipy.stats import multivariate_normal\n",
    "from matplotlib import pyplot as plt\n",
    "from astropy.utils.data import get_pkg_data_filename\n",
    "import galsim\n",
    "import os\n",
    "import math\n",
    "import logging\n",
    "import sys\n",
    "from astropy.io import fits\n",
    "from astropy.visualization import astropy_mpl_style\n",
    "from astropy.coordinates import SphericalRepresentation, CartesianRepresentation"
   ]
  },
  {
   "cell_type": "code",
   "execution_count": 3,
   "metadata": {},
   "outputs": [],
   "source": [
    "simname = \"/nfs/slac/des/fs1/g/sims/jderose/BCC/Chinchilla/Herd/Chinchilla-4/v1.9.2/addgalspostprocess/mag2/Chinchilla-4-y3wlpz.0.fits\"\n",
    "truthname = \"/nfs/slac/des/fs1/g/sims/jderose/BCC/Chinchilla/Herd/Chinchilla-4/v1.9.2/addgalspostprocess/truth/truth/Chinchilla-4_lensed.4.fits\""
   ]
  },
  {
   "cell_type": "code",
   "execution_count": null,
   "metadata": {},
   "outputs": [],
   "source": [
    "simhdu = fits.open(simname)\n",
    "truthhdu = fits.open(truthname)\n",
    "sim_table = simhdu[1].data\n",
    "truth_table = truthhdu[1].data\n",
    "#simhdu.info()\n",
    "#print(sim_table.columns);\n",
    "#truthhdu.info()\n",
    "#print(truth_table.columns)"
   ]
  },
  {
   "cell_type": "code",
   "execution_count": null,
   "metadata": {},
   "outputs": [],
   "source": [
    "cat_file_name = os.path.join('/nfs/slac/des/fs1/g/sims/jderose/BCC/Chinchilla/Herd/Chinchilla-4/v1.9.2/addgalspostprocess/truth/truth/','Chinchilla-4_lensed.4.fits')\n",
    "cat = galsim.Catalog(cat_file_name)"
   ]
  },
  {
   "cell_type": "code",
   "execution_count": null,
   "metadata": {
    "scrolled": true
   },
   "outputs": [],
   "source": [
    "noisy_file_name = os.path.join('/afs/slac.stanford.edu/u/ki/gwisk/CRNProject','noisy.fits')\n",
    "noisefree_file_name = os.path.join('/afs/slac.stanford.edu/u/ki/gwisk/CRNProject','noisefree.fits')\n",
    "\n",
    "rband = truth_table['LMAG'][:,1] #grizy\n",
    "_ra = truth_table['RA']\n",
    "_dec = truth_table['DEC']\n",
    "_hlr = truth_table['SIZE']\n",
    "te1 = truth_table['EPSILON'][:,0]\n",
    "te2 = truth_table['EPSILON'][:,1]"
   ]
  },
  {
   "cell_type": "markdown",
   "metadata": {},
   "source": [
    "# Timing Tests"
   ]
  },
  {
   "cell_type": "code",
   "execution_count": null,
   "metadata": {},
   "outputs": [],
   "source": [
    "gaussiannoise = galsim.GaussianNoise(sigma=0.005)\n",
    "x, y = np.mgrid[-24.5:25.5:1, -24.5:25.5:1]\n",
    "pos = np.zeros(x.shape + (2,))\n",
    "pos[:, :, 0] = x; pos[:, :, 1] = y\n",
    "#_nimages, _nfimages, _nmoments, _nfmoments, shearmatrices, noisematrices, _gfluxes, _hlr, failures =([] for i in range(9))\n",
    "\n",
    "def HSMfunc(integer):\n",
    "    failures = []\n",
    "    _nmoments = []\n",
    "    _gfluxes = []\n",
    "    for i in range(integer):\n",
    "        image = galsim.ImageF(50, 50)\n",
    "        # catalogs\n",
    "        hlradius = _hlr[i]   \n",
    "        elip1 = te1[i]\n",
    "        elip2 = te2[i]\n",
    "        lmag = rband[i]\n",
    "        gflux = 10**((lmag-22.5)/(-2.5))\n",
    "        _gfluxes.append(gflux)\n",
    "        #make galaxy\n",
    "        gal = galsim.Gaussian(flux=gflux, half_light_radius=hlradius)\n",
    "        # shearing\n",
    "        #shearing1 = galsim.Shear(e1=elip1, e2=elip2)\n",
    "        gal = gal.shear(galsim.Shear(e1=elip1, e2=elip2))\n",
    "        # create image, convolve\n",
    "        \n",
    "        final = galsim.Convolve([gal])\n",
    "        image = final.drawImage(scale=0.2)\n",
    "        image.addNoise(gaussiannoise)\n",
    "        \n",
    "    \n",
    "        #HSM\n",
    "        nmoment = image.FindAdaptiveMom(strict = False, precision = 1e-3) #,guess_sig=hlradius*5)\n",
    "        _nmoments.append(nmoment)\n",
    "        if nmoment.moments_n_iter == 0:\n",
    "            failures.append(i)\n",
    "    return failures, _nmoments, _gfluxes\n",
    "\n",
    "def cheatfunc(integer):\n",
    "    shearmatrices = []\n",
    "    noisematrices = []\n",
    "    for i in range(integer):\n",
    "        noiseimage = galsim.ImageF(50, 50)\n",
    "        # catalogs\n",
    "        ra = cat.get(i, 'RA')\n",
    "        dec = cat.get(i, 'DEC')\n",
    "        hlradius = cat.get(i, 'SIZE')\n",
    "        \n",
    "        # more catalogs\n",
    "        elip1 = te1[i]\n",
    "        elip2 = te2[i]\n",
    "        lmag = rband[i]\n",
    "        gflux = 10**((lmag-22.5)/(-2.5))\n",
    "\n",
    "        shearing2 = galsim.Shear(e1=-1*elip1, e2=elip2)\n",
    "        matrix = (shearing2.getMatrix())*(hlradius**2)*25\n",
    "        shearmatrices.append(matrix)\n",
    "\n",
    "        noiseimage.addNoise(gaussiannoise)\n",
    "        noisematrices.append(noiseimage.array)\n",
    "        \n",
    "    return shearmatrices, noisematrices"
   ]
  },
  {
   "cell_type": "code",
   "execution_count": null,
   "metadata": {},
   "outputs": [],
   "source": [
    "%%timeit\n",
    "shearmatrices, noisematrices = cheatfunc(3000)\n",
    "cheatflux = np.zeros(3000)\n",
    "# look in the book Pat sent\n",
    "for j in range(foobar):\n",
    "    rv = multivariate_normal([0, 0], shearmatrices[j])\n",
    "    cheatflux[j] = np.sum(np.multiply(rv.pdf(pos), noisematrices[j])/np.sum(rv.pdf(pos)))\n",
    "#2.45 s ± 307 ms per loop (mean ± std. dev. of 7 runs, 1 loop each)"
   ]
  },
  {
   "cell_type": "code",
   "execution_count": null,
   "metadata": {},
   "outputs": [],
   "source": [
    "%%timeit\n",
    "failures, _nmoments, _gfluxes = HSMfunc(3000)\n",
    "nmoments = [i for j, i in enumerate(_nmoments) if j not in failures]\n",
    "gfluxes = [i for j, i in enumerate(_gfluxes) if j not in failures]\n",
    "HSMflux = np.zeros(len(nmoments))\n",
    "for k in range(len(nmoments)):\n",
    "    HSMflux[k] = nmoments[k].moments_amp - gfluxes[k]\n",
    "    #10.8 s ± 1.77 s per loop (mean ± std. dev. of 7 runs, 1 loop each) for 3000 runs, default precision "
   ]
  },
  {
   "cell_type": "markdown",
   "metadata": {},
   "source": [
    "# Tests Below"
   ]
  },
  {
   "cell_type": "code",
   "execution_count": null,
   "metadata": {},
   "outputs": [],
   "source": [
    "noisy_image_file = get_pkg_data_filename('/afs/slac.stanford.edu/u/ki/gwisk/CRNProject/noisy.fits')"
   ]
  },
  {
   "cell_type": "code",
   "execution_count": null,
   "metadata": {},
   "outputs": [],
   "source": [
    "HSMflux = np.zeros(len(nimages))\n",
    "#HSMflux1 = np.zeros(len(nimages))\n",
    "#x, y = np.mgrid[-5:5:.2, -5:5:.2]\n",
    "cheatflux = np.zeros(len(nimages))\n",
    "sigmas = []\n",
    "\n",
    "x, y = np.mgrid[-24.5:25.5:1, -24.5:25.5:1]\n",
    "pos = np.zeros(x.shape + (2,))\n",
    "pos[:, :, 0] = x; pos[:, :, 1] = y\n",
    "for k in range(len(nimages)):\n",
    "    HSMflux[k] = (nmoments[k].moments_amp) #-  nfmoments[k].moments_amp)# -  gfluxes[k]))\n",
    "   # HSMflux1[k] = nfmoments[k].moments_amp\n",
    "\n",
    "for j in range(len(nimages)):\n",
    "    rv = multivariate_normal([0, 0], shearmatrices[j])\n",
    "    foo = np.sum(np.multiply (rv.pdf(pos), noisematrices[j] + nfimages[j].array)/np.sum(rv.pdf(pos)))\n",
    "    foo = np.sum(np.multiply (rv.pdf(pos), nfimages[j].array))\n",
    "    cheatflux[j] = foo\n",
    "\n",
    "plt.figure()\n",
    "plt.scatter(cheatflux, gfluxes)\n"
   ]
  },
  {
   "cell_type": "code",
   "execution_count": null,
   "metadata": {},
   "outputs": [],
   "source": [
    "plt.figure(1)\n",
    "fluxes = []\n",
    "f, ax = plt.subplots(3, 3, figsize=(11, 9))\n",
    "for i in range(9):\n",
    "    image_data = fits.getdata(noisy_image_file, ext = i)\n",
    "    im = ax[i//3, i%3].imshow(image_data, origin=\"lower\")\n",
    "    f.colorbar(im, ax=ax[i//3, i%3])\n",
    "plt.tight_layout(1)"
   ]
  },
  {
   "cell_type": "code",
   "execution_count": null,
   "metadata": {},
   "outputs": [],
   "source": [
    "plt.figure(2)\n",
    "g, ax = plt.subplots(3, 3, figsize=(11, 9))\n",
    "#x, y = np.mgrid[-.24:.24:.01, -.24:.24:.01]\n",
    "x, y = np.mgrid[-.5:.5:.02, -.5:.5:.02]\n",
    "\n",
    "pos = np.zeros(x.shape + (2,))\n",
    "pos[:, :, 0] = x; pos[:, :, 1] = y\n",
    "#np.multiply(rv.pdf(pos),\n",
    "for j in range(0, 9):\n",
    "    rv = multivariate_normal([0, 0], shearmatrices[j])\n",
    "    im = ax[j//3, j%3].imshow(np.multiply(rv.pdf(pos), noisematrices[j] + nfimages[j].array), origin = \"lower\")\n",
    "    #im = ax[j//3, j%3].imshow(noisematrices[j], origin = \"lower\")\n",
    "    g.colorbar(im, ax=ax[j//3, j%3])\n",
    "plt.tight_layout(2)"
   ]
  },
  {
   "cell_type": "code",
   "execution_count": null,
   "metadata": {},
   "outputs": [],
   "source": [
    "# half light radius squared/flux\n",
    "_nimages, _nfimages, _nmoments, _nfmoments, _shearmatrices, _noisematrices, _gfluxes, _hlr, failures =([] for i in range(9))\n",
    "def imagefunc(integer):\n",
    "    for i in range(integer):\n",
    "        # catalogs\n",
    "        ra = cat.get(i, 'RA')\n",
    "        dec = cat.get(i, 'DEC')\n",
    "        hlradius = cat.get(i, 'SIZE')\n",
    "        _hlr.append(hlradius)\n",
    "        \n",
    "        # more catalogs\n",
    "        elip1 = te1[i]\n",
    "        elip2 = te2[i]\n",
    "        lmag = rband[i]\n",
    "        gflux = 10**((lmag-22.5)/(-2.5))\n",
    "        _gfluxes.append(gflux)\n",
    "        #make galaxy\n",
    "        gal = galsim.Gaussian(flux=gflux, half_light_radius=hlradius)\n",
    "        # shearing\n",
    "        shearing1 = galsim.Shear(e1=elip1, e2=elip2)\n",
    "        shearing2 = galsim.Shear(e1=-1*elip1, e2=elip2)\n",
    "        gal = gal.shear(shearing1)\n",
    "        matrix = (shearing2.getMatrix())*(hlradius**2)*25\n",
    "        _shearmatrices.append(matrix)\n",
    "\n",
    "        # create image, convolve\n",
    "\n",
    "        nfimage = galsim.ImageF(50, 50)\n",
    "        nimage = galsim.ImageF(50, 50)\n",
    "        noisefreefinal = galsim.Convolve([gal])\n",
    "        noisefinal = galsim.Convolve([gal])\n",
    "        noisefreefinal.drawImage(nfimage, scale=0.2)\n",
    "        noisefinal.drawImage(nimage, scale=0.2)\n",
    "        #noisefree\n",
    "        nfmoment = galsim.hsm.FindAdaptiveMom(nfimage, strict = False, guess_sig = hlradius*5)\n",
    "        _nfmoments.append(nfmoment)\n",
    "        _nfimages.append(nfimage)\n",
    "        #noisy\n",
    "        nimage.addNoise(galsim.GaussianNoise(sigma=0.005))\n",
    "        _nimages.append(nimage)\n",
    "        nmoment = galsim.hsm.FindAdaptiveMom(nimage, strict = False,  guess_sig=hlradius*5)\n",
    "        _nmoments.append(nmoment)\n",
    "\n",
    "        if nmoment.moments_n_iter == 0:\n",
    "            failures.append(i)\n",
    "        noiseimage = galsim.ImageF(50, 50)\n",
    "        noise = galsim.GaussianNoise(sigma=0.005)\n",
    "        noiseimage.addNoise(noise)\n",
    "        _noisematrices.append(noiseimage.array)\n",
    "    #print(np.mean(hlr))\n",
    "    galsim.fits.writeMulti(_nimages, noisy_file_name)\n",
    "    return _nimages, _nfimages, _nmoments, _nfmoments, _shearmatrices, _noisematrices, _gfluxes, _hlr, failures\n",
    "\n",
    "\n",
    "imagefunc(500)\n",
    "nimages = [i for j, i in enumerate(_nimages) if j not in failures]\n",
    "nmoments = [i for j, i in enumerate(_nmoments) if j not in failures]\n",
    "nfmoments = [i for j, i in enumerate(_nfmoments) if j not in failures]\n",
    "shearmatrices = [i for j, i in enumerate(_shearmatrices) if j not in failures]\n",
    "noisematrices = [i for j, i in enumerate(_noisematrices) if j not in failures]\n",
    "gfluxes = [i for j, i in enumerate(_gfluxes) if j not in failures]\n",
    "hlr = [i for j, i in enumerate(_hlr) if j not in failures]\n",
    "nfimages = [i for j, i in enumerate(_nfimages) if j not in failures]"
   ]
  }
 ],
 "metadata": {
  "kernelspec": {
   "display_name": "Python [conda env:lsst-scipipe-1172c30] *",
   "language": "python",
   "name": "conda-env-lsst-scipipe-1172c30-py"
  },
  "language_info": {
   "codemirror_mode": {
    "name": "ipython",
    "version": 3
   },
   "file_extension": ".py",
   "mimetype": "text/x-python",
   "name": "python",
   "nbconvert_exporter": "python",
   "pygments_lexer": "ipython3",
   "version": "3.7.2"
  }
 },
 "nbformat": 4,
 "nbformat_minor": 2
}
