{
 "cells": [
  {
   "cell_type": "markdown",
   "metadata": {},
   "source": [
    "# Import Statements, Preliminaries"
   ]
  },
  {
   "cell_type": "code",
   "execution_count": 1,
   "metadata": {},
   "outputs": [
    {
     "data": {
      "application/javascript": [
       "IPython.notebook.set_autosave_interval(180000)"
      ]
     },
     "metadata": {},
     "output_type": "display_data"
    },
    {
     "name": "stdout",
     "output_type": "stream",
     "text": [
      "Autosaving every 180 seconds\n"
     ]
    }
   ],
   "source": [
    "%autosave 180"
   ]
  },
  {
   "cell_type": "code",
   "execution_count": 1,
   "metadata": {},
   "outputs": [],
   "source": [
    "%matplotlib inline\n",
    "from sklearn.linear_model import LinearRegression\n",
    "import numpy as np\n",
    "from scipy.stats import multivariate_normal\n",
    "from matplotlib import pyplot as plt\n",
    "from astropy.utils.data import get_pkg_data_filename\n",
    "import galsim\n",
    "import os\n",
    "import math\n",
    "import time\n",
    "import logging\n",
    "import sys\n",
    "import fitsio"
   ]
  },
  {
   "cell_type": "code",
   "execution_count": 3,
   "metadata": {},
   "outputs": [],
   "source": [
    "simname = \"/nfs/slac/des/fs1/g/sims/jderose/BCC/Chinchilla/Herd/Chinchilla-4/v1.9.2/addgalspostprocess/mag2/Chinchilla-4-y3wlpz.0.fits\"\n",
    "truthname = \"/nfs/slac/des/fs1/g/sims/jderose/BCC/Chinchilla/Herd/Chinchilla-4/v1.9.2/addgalspostprocess/truth/truth/Chinchilla-4_lensed.4.fits\""
   ]
  },
  {
   "cell_type": "markdown",
   "metadata": {},
   "source": [
    "# Functions and List Creation"
   ]
  },
  {
   "cell_type": "code",
   "execution_count": 6,
   "metadata": {},
   "outputs": [],
   "source": [
    "file = os.path.join('/nfs/slac/des/fs1/g/sims/jderose/BCC/Chinchilla/Herd/Chinchilla-4/v1.9.2/addgalspostprocess/truth/truth/','Chinchilla-4_lensed.4.fits')\n",
    "\n",
    "span = range(10000)\n",
    "\n",
    "_RA = fitsio.read(file, columns='RA', rows=span, ext=1)\n",
    "_DEC = fitsio.read(file, columns='DEC', rows=span, ext=1)\n",
    "_HLR = fitsio.read(file, columns='SIZE', rows=span, ext=1)\n",
    "LMAG = fitsio.read(file, columns = 'LMAG', rows=span, ext=1)\n",
    "EPSILON = fitsio.read(file, columns='EPSILON', rows=span, ext=1)\n",
    "RBAND = LMAG[:,1]\n",
    "E1 = EPSILON[:,0]\n",
    "E2 = EPSILON[:,1]"
   ]
  },
  {
   "cell_type": "code",
   "execution_count": 33,
   "metadata": {},
   "outputs": [],
   "source": [
    "x, y = np.mgrid[-24.5:25.5:1, -24.5:25.5:1]\n",
    "pos = np.zeros(x.shape + (2,))\n",
    "pos[:, :, 0] = x; pos[:, :, 1] = y\n",
    "\n",
    "def HSMfunc(integer):\n",
    "    _moments, _gfluxes, _images, failures = ([] for i in range(4))\n",
    "    for i in range(integer):\n",
    "        rng = galsim.BaseDeviate(215324) # make noise object\n",
    "        gaussiannoise = galsim.GaussianNoise(rng, sigma=0.005)\n",
    "\n",
    "        hlradius = _HLR[i] # catalogs  \n",
    "        elip1 = E1[i]\n",
    "        elip2 = E2[i]\n",
    "        magnitude = RBAND[i]\n",
    "        gflux = 10**((magnitude-22.5)/(-2.5))\n",
    "        \n",
    "        _gfluxes.append(gflux) # make galaxy\n",
    "        gal = galsim.Gaussian(flux=gflux, half_light_radius=hlradius)\n",
    "        \n",
    "        gal = gal.shear(galsim.Shear(e1=elip1, e2=elip2)) # shearing\n",
    "        \n",
    "        image = galsim.ImageF(50, 50) # create image, convolve\n",
    "        final = galsim.Convolve([gal])\n",
    "        image = final.drawImage(image, scale=0.2)\n",
    "        image.addNoise(gaussiannoise)\n",
    "        \n",
    "        image2 = galsim.ImageF(50, 50) # create image...again\n",
    "        final2 = galsim.Convolve([gal])\n",
    "        image2 = final2.drawImage(image2, scale=0.2)\n",
    "        _images.append(image2)\n",
    "\n",
    "        moment = image.FindAdaptiveMom(strict = False ,guess_sig=hlradius*5) # HSM\n",
    "        _moments.append(moment)\n",
    "        if moment.moments_n_iter  == 0:\n",
    "            failures.append(i)\n",
    "            \n",
    "    return _moments, _gfluxes, _images, failures \n",
    "\n",
    "\n",
    "def matrixfunc(integer):\n",
    "    _covariances = []\n",
    "    _noisematrices = []\n",
    "    for i in range(integer):\n",
    "        rng = galsim.BaseDeviate(215324) # make noise object\n",
    "        gaussiannoise = galsim.GaussianNoise(rng, sigma=0.005) \n",
    "        \n",
    "        hlradius = _HLR[i] # catalogs\n",
    "        sigma = 1/(np.sqrt(2*np.log(2))) * hlradius \n",
    "        elip1 = E1[i]\n",
    "        elip2 = E2[i]\n",
    "        magnitude = RBAND[i]\n",
    "        gflux = 10**((magnitude-22.5)/(-2.5))\n",
    "        \n",
    "        noiseimage = galsim.ImageF(50, 50) # make image\n",
    "\n",
    "\n",
    "        shearing2 = galsim.Shear(e1=-1*elip1, e2=elip2) # The negative sign in e1 is due to the difference in how GalSim treats \n",
    "        matrix = (shearing2.getMatrix())*(sigma**2)*25  # shearing matrices\n",
    "        \n",
    "        _covariances.append(matrix)\n",
    "        noiseimage.addNoise(gaussiannoise)\n",
    "        _noisematrices.append(noiseimage)\n",
    "        \n",
    "    return _covariances, _noisematrices"
   ]
  },
  {
   "cell_type": "markdown",
   "metadata": {},
   "source": [
    "# Function Calls"
   ]
  },
  {
   "cell_type": "code",
   "execution_count": 9,
   "metadata": {},
   "outputs": [],
   "source": [
    "_moments, _gfluxes, _images, failures  = HSMfunc(2000)\n",
    "_covariances1, _noisematrices1 = matrixfunc(2000)\n",
    "\n",
    "moments = [i for j, i in enumerate(_nmoments1) if j not in failures]\n",
    "gfluxes = [i for j, i in enumerate(_gfluxes1) if j not in failures]\n",
    "covariances = [i for j, i in enumerate(_covariances1) if j not in failures] # HSM doesn't always converge well, so the purpose of this is to remove galaxies for which HSM didn't converge.\n",
    "images = [i for j, i in enumerate(_images) if j not in failures]\n",
    "noisematrices = [i for j, i in enumerate(_noisematrices) if j not in failures]\n",
    "HLR = [i for j, i in enumerate(_HLR) if j not in failures]\n",
    "\n",
    "matrixfluxes = np.zeros(len(moments))\n",
    "hsmfluxes = np.zeros(len(moments))\n",
    "\n",
    "for j in range(len(moments)):\n",
    "    rv = multivariate_normal([0, 0], covariances[j])\n",
    "    r1 = np.sum(np.multiply(rv.pdf(pos), images[j].array + noisematrices[j].array))\n",
    "    r2 = np.sum(np.multiply(rv.pdf(pos), rv.pdf(pos)))\n",
    "    matrixfluxes[j] = r1/r2\n",
    "    \n",
    "for i in range(len(moments)):\n",
    "    hsmfluxes[i] = moments[i].moments_amp"
   ]
  },
  {
   "cell_type": "code",
   "execution_count": 10,
   "metadata": {},
   "outputs": [],
   "source": [
    "# from scipy import integrate\n",
    "# rv = multivariate_normal([0, 0], covariances[j])\n",
    "# f, ((ax1, ax2, ax3), (ax4, ax5, ax6), (ax7, ax8, ax9)) = plt.subplots(3,3,figsize=(15,15))\n",
    "# im1 = ax1.imshow(rv.pdf(pos)*gfluxes[0])\n",
    "# im2 = ax2.imshow(images[0].array)\n",
    "# im3 = ax3.imshow(images[0].array-rv.pdf(pos)*gfluxes[0])\n",
    "# f.colorbar(im1,ax=ax1)\n",
    "# f.colorbar(im2,ax=ax2)\n",
    "# f.colorbar(im3,ax=ax3)\n",
    "\n",
    "# grid = np.array([[integrate.dblquad(lambda b, a : rv.pdf([a,b]), x, x+1, lambda a: y, lambda a: y+1)[0] for y in range(-25, 25)] for x in range(-25, 25)])\n",
    "\n",
    "# print(grid.shape)\n",
    "# im4 = ax4.imshow(grid*gfluxes[0])\n",
    "# im5 = ax5.imshow(images[0].array)\n",
    "# im6 = ax6.imshow(images[0].array-grid*gfluxes[0])\n",
    "# f.colorbar(im4,ax=ax4)\n",
    "# f.colorbar(im5,ax=ax5)\n",
    "# f.colorbar(im6,ax=ax6)\n",
    "\n",
    "# im7 = ax7.imshow(rv.pdf(pos)*gfluxes[0])\n",
    "# im8 = ax8.imshow(grid*gfluxes[0])\n",
    "# im9 = ax9.imshow(rv.pdf(pos)*gfluxes[0]-grid*gfluxes[0])\n",
    "# f.colorbar(im7,ax=ax7)\n",
    "# f.colorbar(im8,ax=ax8)\n",
    "# f.colorbar(im9,ax=ax9)\n",
    "\n",
    "# f.tight_layout()\n",
    "# print(np.sum(images[0].array), gfluxes[0])"
   ]
  },
  {
   "cell_type": "markdown",
   "metadata": {},
   "source": [
    "# Plot of Matrix Flux vs. HSM Flux"
   ]
  },
  {
   "cell_type": "code",
   "execution_count": 22,
   "metadata": {
    "scrolled": true
   },
   "outputs": [
    {
     "name": "stdout",
     "output_type": "stream",
     "text": [
      "intercept: -0.005120356153456074\n",
      "slope: [1.04481908]\n"
     ]
    },
    {
     "data": {
      "text/plain": [
       "Text(0, 0.5, 'HSM Flux')"
      ]
     },
     "execution_count": 22,
     "metadata": {},
     "output_type": "execute_result"
    },
    {
     "data": {
      "image/png": "[encoded data removed]",
      "text/plain": [
       "<Figure size 432x288 with 1 Axes>"
      ]
     },
     "metadata": {
      "needs_background": "light"
     },
     "output_type": "display_data"
    }
   ],
   "source": [
    "npmatrixfluxes = matrixfluxes.reshape((-1, 1))\n",
    "model = LinearRegression().fit(npmatrixfluxes, hsmfluxes)\n",
    "print('intercept:', model.intercept_)\n",
    "print('slope:', model.coef_)\n",
    "\n",
    "\n",
    "plt.figure()\n",
    "z = np.linspace(0, 2, 100)\n",
    "y = z*model.coef_ + model.intercept_\n",
    "plt.plot(z, y, '-r')\n",
    "\n",
    "plt.scatter(matrixfluxes, hsmfluxes)\n",
    "plt.xlabel(\"Matrix Flux\")\n",
    "plt.ylabel(\"HSM Flux\")"
   ]
  },
  {
   "cell_type": "markdown",
   "metadata": {},
   "source": [
    "# Plot of Matrix Flux vs. Galaxy Flux"
   ]
  },
  {
   "cell_type": "code",
   "execution_count": 23,
   "metadata": {},
   "outputs": [
    {
     "name": "stdout",
     "output_type": "stream",
     "text": [
      "intercept: -0.01461389552257647\n",
      "slope: [1.04348631]\n"
     ]
    },
    {
     "data": {
      "text/plain": [
       "Text(0, 0.5, 'Galaxy Flux')"
      ]
     },
     "execution_count": 23,
     "metadata": {},
     "output_type": "execute_result"
    },
    {
     "data": {
      "image/png": "[encoded data removed]",
      "text/plain": [
       "<Figure size 432x288 with 1 Axes>"
      ]
     },
     "metadata": {
      "needs_background": "light"
     },
     "output_type": "display_data"
    }
   ],
   "source": [
    "npmatrixfluxes = matrixfluxes.reshape((-1, 1)) # best fit line \n",
    "model = LinearRegression().fit(npmatrixfluxes, gfluxes)\n",
    "print('intercept:', model.intercept_)\n",
    "print('slope:', model.coef_)\n",
    "\n",
    "\n",
    "plt.figure()\n",
    "z = np.linspace(0, 2, 100)\n",
    "y = z*model.coef_ + model.intercept_\n",
    "plt.plot(z, y, '-r')\n",
    "\n",
    "plt.scatter(matrixfluxes, gfluxes)\n",
    "plt.xlabel(\"Matrix Flux\")\n",
    "plt.ylabel(\"Galaxy Flux\")"
   ]
  },
  {
   "cell_type": "markdown",
   "metadata": {},
   "source": [
    "# Plot of HSM Flux vs. Galaxy Flux"
   ]
  },
  {
   "cell_type": "code",
   "execution_count": 28,
   "metadata": {},
   "outputs": [
    {
     "name": "stdout",
     "output_type": "stream",
     "text": [
      "intercept: -0.004468495327790589\n",
      "slope: [0.98026107]\n"
     ]
    },
    {
     "data": {
      "text/plain": [
       "Text(0, 0.5, 'HSM Flux')"
      ]
     },
     "execution_count": 28,
     "metadata": {},
     "output_type": "execute_result"
    },
    {
     "data": {
      "image/png": "[encoded data removed]",
      "text/plain": [
       "<Figure size 432x288 with 1 Axes>"
      ]
     },
     "metadata": {
      "needs_background": "light"
     },
     "output_type": "display_data"
    }
   ],
   "source": [
    "nphsmfluxes = hsmfluxes.reshape((-1, 1)) # best fit line \n",
    "model = LinearRegression().fit(nphsmfluxes, gfluxes)\n",
    "print('intercept:', model.intercept_)\n",
    "print('slope:', model.coef_)\n",
    "\n",
    "\n",
    "plt.figure()\n",
    "z = np.linspace(0, 2, 100)\n",
    "y = z*model.coef_ + model.intercept_\n",
    "plt.plot(z, y, '-r')\n",
    "\n",
    "plt.scatter(nphsmfluxes, gfluxes)\n",
    "plt.xlabel(\"Galaxy Flux\")\n",
    "plt.ylabel(\"HSM Flux\")"
   ]
  },
  {
   "cell_type": "code",
   "execution_count": 14,
   "metadata": {},
   "outputs": [
    {
     "data": {
      "text/plain": [
       "<matplotlib.collections.PathCollection at 0x7f96cac5eb70>"
      ]
     },
     "execution_count": 14,
     "metadata": {},
     "output_type": "execute_result"
    },
    {
     "data": {
      "image/png": "[encoded data removed]",
      "text/plain": [
       "<Figure size 432x288 with 1 Axes>"
      ]
     },
     "metadata": {
      "needs_background": "light"
     },
     "output_type": "display_data"
    }
   ],
   "source": [
    "plt.scatter(gfluxes, hsmfluxes - gfluxes)"
   ]
  },
  {
   "cell_type": "code",
   "execution_count": 15,
   "metadata": {},
   "outputs": [
    {
     "data": {
      "text/plain": [
       "<matplotlib.collections.PathCollection at 0x7f96cacbbba8>"
      ]
     },
     "execution_count": 15,
     "metadata": {},
     "output_type": "execute_result"
    },
    {
     "data": {
      "image/png": "[encoded data removed]",
      "text/plain": [
       "<Figure size 432x288 with 1 Axes>"
      ]
     },
     "metadata": {
      "needs_background": "light"
     },
     "output_type": "display_data"
    }
   ],
   "source": [
    "plt.scatter(gfluxes, [matrixfluxes[i]-gfluxes[i] for i in range(len(matrixfluxes))])"
   ]
  },
  {
   "cell_type": "markdown",
   "metadata": {},
   "source": [
    "# Delta Flux Function Calls"
   ]
  },
  {
   "cell_type": "code",
   "execution_count": 37,
   "metadata": {},
   "outputs": [],
   "source": [
    "_dmoments, _dgfluxes, _dimages, dfailures  = HSMfunc(2000)\n",
    "_dcovariances, _dnoisematrices = matrixfunc(2000)\n",
    "\n",
    "dmoments = [i for j, i in enumerate(_dmoments) if j not in dfailures]\n",
    "dgfluxes = [i for j, i in enumerate(_dgfluxes) if j not in dfailures]\n",
    "dcovariances = [i for j, i in enumerate(_dcovariances) if j not in dfailures]\n",
    "dimages = [i for j, i in enumerate(_dimages) if j not in dfailures]\n",
    "dnoisematrices = [i for j, i in enumerate(_dnoisematrices) if j not in dfailures]\n",
    "\n",
    "dmatrixfluxes = np.zeros(len(dmoments))\n",
    "dhsmfluxes = np.zeros(len(dmoments))\n",
    "\n",
    "for j in range(len(dmoments)):\n",
    "    rv = multivariate_normal([0, 0], dcovariances[j])\n",
    "    r1 = np.sum(np.multiply(rv.pdf(pos), dnoisematrices[j].array))\n",
    "    r2 = np.sum(np.multiply(rv.pdf(pos), rv.pdf(pos))) \n",
    "    dmatrixfluxes[j] = r1/r2\n",
    "    \n",
    "for i in range(len(dmoments)):\n",
    "    dhsmfluxes[i] = dmoments[i].moments_amp - dgfluxes[i]"
   ]
  },
  {
   "cell_type": "code",
   "execution_count": 17,
   "metadata": {},
   "outputs": [],
   "source": [
    "# plt.figure()\n",
    "# plt.scatter(matrixfluxes, gfluxes)\n",
    "# plt.xlabel(\"matrix fluxes\")\n",
    "# plt.ylabel(\"galaxy fluxes\")"
   ]
  },
  {
   "cell_type": "code",
   "execution_count": 39,
   "metadata": {},
   "outputs": [
    {
     "data": {
      "text/plain": [
       "Text(0, 0.5, 'HSM Flux')"
      ]
     },
     "execution_count": 39,
     "metadata": {},
     "output_type": "execute_result"
    },
    {
     "data": {
      "image/png": "[encoded data removed]",
      "text/plain": [
       "<Figure size 432x288 with 1 Axes>"
      ]
     },
     "metadata": {
      "needs_background": "light"
     },
     "output_type": "display_data"
    }
   ],
   "source": [
    "plt.figure()\n",
    "plt.scatter(dmatrixfluxes, dhsmfluxes)\n",
    "#plt.ylim([-0.03, 0.03])\n",
    "#plt.xlim([-0.03, 0.03])\n",
    "plt.xlabel(\"Matrix Flux\")\n",
    "plt.ylabel(\"HSM Flux\")"
   ]
  },
  {
   "cell_type": "code",
   "execution_count": 2,
   "metadata": {},
   "outputs": [],
   "source": [
    "def getShearMat(e1, e2):\n",
    "\t'''returns the shear matrix for the given e1, e2, inspired by GalSim'''\n",
    "\tabsesq = e1**2 + e2**2\n",
    "\tif absesq > 1.e-4:\n",
    "\t\te2g = 1. / (1. + np.sqrt(1.-absesq))\n",
    "\telse:\n",
    "\t\te2g = 0.5 + absesq*(0.125 + absesq*(0.0625 + absesq*0.0390625))\n",
    "\tg1 = e1 * e2g\n",
    "\tg2 = e2 * e2g\n",
    "\treturn np.array([ [ 1 + g1 , g2 ], [ g2 , 1 - g1 ] ])\n",
    "\n",
    "def getPsfMat(sigma):\n",
    "\t'''Returns a PSF correlation matrix for a given sigma'''\n",
    "\treturn np.array([ [ sigma**2 , 0 ], [ 0 , sigma**2 ] ])\n",
    "\n",
    "def getGridSize(hlr, psfSig=0.7):\n",
    "\t'''Returns the side length of the postage stamp we are using to model the galaxy. Approximately \n",
    "\t3 sigma in each direction, where 'sigma' is a combined measure of the galaxy and psf sigmas'''\n",
    "\tgalSig = hlr / 1.1774100225154747\n",
    "\treturn int(6 * np.sqrt(galSig**2 + psfSig**2) / 0.2)\n",
    "\t\n",
    "def getWeights(e1, e2, hlr, psfSig=0.7):\n",
    "\t'''\n",
    "\tGets a weighting scheme that assumes a gaussian profile for a galaxy with given e1, e2, and hlr. \n",
    "\tAlso returns the side length\n",
    "\t'''\n",
    "\tgalSig = hlr / 1.1774100225154747 # Divide by sqrt(ln(2)) to convert from hlr to sigma\n",
    "\tcov = (getShearMat(e1, e2) * galSig**2 + getPsfMat(psfSig)) / 0.2**2\n",
    "\n",
    "\tgridSize = getGridSize(hlr, psfSig)\n",
    "\tx, y = np.mgrid[-1*(gridSize - 1)/2:(gridSize + 1)/2:1, -1*(gridSize - 1)/2:(gridSize + 1)/2:1]\n",
    "\tpos = np.zeros(x.shape + (2,))\n",
    "\tpos[:, :, 0] = x; pos[:, :, 1] = y\n",
    "\n",
    "\treturn multivariate_normal.pdf(pos, cov=cov)"
   ]
  },
  {
   "cell_type": "code",
   "execution_count": 6,
   "metadata": {},
   "outputs": [
    {
     "data": {
      "text/plain": [
       "<matplotlib.image.AxesImage at 0x7f0b3e52e588>"
      ]
     },
     "execution_count": 6,
     "metadata": {},
     "output_type": "execute_result"
    },
    {
     "data": {
      "image/png": "[encoded data removed]",
      "text/plain": [
       "<Figure size 432x288 with 1 Axes>"
      ]
     },
     "metadata": {
      "needs_background": "light"
     },
     "output_type": "display_data"
    }
   ],
   "source": [
    "plt.imshow(getWeights(0.5, 0.5, 1), origin='lower')"
   ]
  },
  {
   "cell_type": "code",
   "execution_count": 9,
   "metadata": {},
   "outputs": [
    {
     "data": {
      "text/plain": [
       "<matplotlib.image.AxesImage at 0x7f0b1ffe5ba8>"
      ]
     },
     "execution_count": 9,
     "metadata": {},
     "output_type": "execute_result"
    },
    {
     "data": {
      "image/png": "[encoded data removed]",
      "text/plain": [
       "<Figure size 432x288 with 1 Axes>"
      ]
     },
     "metadata": {
      "needs_background": "light"
     },
     "output_type": "display_data"
    }
   ],
   "source": [
    "plt.imshow(getWeights(0.5, 0.5, 1)* np.random.normal(0, 0.05, size=(getGridSize(1),getGridSize(1))), origin='lower')"
   ]
  },
  {
   "cell_type": "code",
   "execution_count": null,
   "metadata": {},
   "outputs": [],
   "source": []
  }
 ],
 "metadata": {
  "kernelspec": {
   "display_name": "Python [conda env:lsst-scipipe-1172c30] *",
   "language": "python",
   "name": "conda-env-lsst-scipipe-1172c30-py"
  },
  "language_info": {
   "codemirror_mode": {
    "name": "ipython",
    "version": 3
   },
   "file_extension": ".py",
   "mimetype": "text/x-python",
   "name": "python",
   "nbconvert_exporter": "python",
   "pygments_lexer": "ipython3",
   "version": "3.7.2"
  }
 },
 "nbformat": 4,
 "nbformat_minor": 2
}
