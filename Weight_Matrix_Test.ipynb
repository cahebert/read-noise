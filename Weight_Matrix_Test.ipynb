{
 "cells": [
  {
   "cell_type": "markdown",
   "metadata": {},
   "source": [
    "# Import Statements, Preliminaries"
   ]
  },
  {
   "cell_type": "code",
   "execution_count": 1,
   "metadata": {},
   "outputs": [
    {
     "data": {
      "application/javascript": [
       "IPython.notebook.set_autosave_interval(180000)"
      ]
     },
     "metadata": {},
     "output_type": "display_data"
    },
    {
     "name": "stdout",
     "output_type": "stream",
     "text": [
      "Autosaving every 180 seconds\n"
     ]
    }
   ],
   "source": [
    "%autosave 180"
   ]
  },
  {
   "cell_type": "code",
   "execution_count": 2,
   "metadata": {},
   "outputs": [],
   "source": [
    "%matplotlib inline\n",
    "import numpy as np\n",
    "from scipy.stats import multivariate_normal\n",
    "from multiprocessing import Pool\n",
    "from matplotlib import pyplot as plt\n",
    "from astropy.utils.data import get_pkg_data_filename\n",
    "import galsim\n",
    "import os\n",
    "import math\n",
    "import time\n",
    "import logging\n",
    "import sys\n",
    "from astropy.io import fits"
   ]
  },
  {
   "cell_type": "code",
   "execution_count": 3,
   "metadata": {},
   "outputs": [],
   "source": [
    "simname = \"/nfs/slac/des/fs1/g/sims/jderose/BCC/Chinchilla/Herd/Chinchilla-4/v1.9.2/addgalspostprocess/mag2/Chinchilla-4-y3wlpz.0.fits\"\n",
    "truthname = \"/nfs/slac/des/fs1/g/sims/jderose/BCC/Chinchilla/Herd/Chinchilla-4/v1.9.2/addgalspostprocess/truth/truth/Chinchilla-4_lensed.4.fits\"\n",
    "simhdu = fits.open(simname)\n",
    "truthhdu = fits.open(truthname)\n",
    "sim_table = simhdu[1].data\n",
    "truth_table = truthhdu[1].data"
   ]
  },
  {
   "cell_type": "markdown",
   "metadata": {},
   "source": [
    "# Functions and List Creation"
   ]
  },
  {
   "cell_type": "code",
   "execution_count": 4,
   "metadata": {},
   "outputs": [],
   "source": [
    "cat_file_name = os.path.join('/nfs/slac/des/fs1/g/sims/jderose/BCC/Chinchilla/Herd/Chinchilla-4/v1.9.2/addgalspostprocess/truth/truth/','Chinchilla-4_lensed.4.fits')\n",
    "cat = galsim.Catalog(cat_file_name)\n",
    "\n",
    "noisy_file_name = os.path.join('/afs/slac.stanford.edu/u/ki/gwisk/CRNProject','noisy.fits')\n",
    "noisefree_file_name = os.path.join('/afs/slac.stanford.edu/u/ki/gwisk/CRNProject','noisefree.fits')\n",
    "\n",
    "rband = truth_table['LMAG'][:,1] #grizy\n",
    "_ra = truth_table['RA']\n",
    "_dec = truth_table['DEC']\n",
    "_hlr = truth_table['SIZE']\n",
    "te1 = truth_table['EPSILON'][:,0]\n",
    "te2 = truth_table['EPSILON'][:,1]"
   ]
  },
  {
   "cell_type": "code",
   "execution_count": 188,
   "metadata": {},
   "outputs": [],
   "source": [
    "gaussiannoise = galsim.GaussianNoise(sigma=0.005)\n",
    "x, y = np.mgrid[-24.5:25.5:1, -24.5:25.5:1]\n",
    "pos = np.zeros(x.shape + (2,))\n",
    "pos[:, :, 0] = x; pos[:, :, 1] = y\n",
    "\n",
    "def HSMfunc(integer):\n",
    "    _nmoments, _gfluxes, _images, failures = ([] for i in range(4))\n",
    "    for i in range(integer):\n",
    "        # catalogs\n",
    "        hlradius = _hlr[i]   \n",
    "        elip1 = te1[i]\n",
    "        elip2 = te2[i]\n",
    "        lmag = rband[i]\n",
    "        gflux = 10**((lmag-22.5)/(-2.5))\n",
    "        _gfluxes.append(gflux)\n",
    "        #make galaxy\n",
    "        gal = galsim.Gaussian(flux=gflux, half_light_radius=hlradius)\n",
    "        # shearing\n",
    "        gal = gal.shear(galsim.Shear(e1=elip1, e2=elip2))\n",
    "        # create image, convolve\n",
    "        image = galsim.ImageF(50, 50)\n",
    "        final = galsim.Convolve([gal])\n",
    "        image = final.drawImage(image, scale=0.2)\n",
    "        image.addNoise(gaussiannoise)\n",
    "        #create image...again\n",
    "        image2 = galsim.ImageF(50, 50)\n",
    "        final2 = galsim.Convolve([gal])\n",
    "        image2 = final2.drawImage(image2, scale=0.2)\n",
    "        _images.append(image2)\n",
    "        #HSM\n",
    "        nmoment = image.FindAdaptiveMom(strict = False ,guess_sig=hlradius*5) #, precision=1e-6)\n",
    "        _nmoments.append(nmoment)\n",
    "        if nmoment.moments_n_iter  == 0:\n",
    "            failures.append(i)\n",
    "    return _nmoments, _gfluxes, _images, failures \n",
    "\n",
    "\n",
    "def cheatfunc(integer):\n",
    "    _covariances = []\n",
    "    _noisematrices = []\n",
    "    for i in range(integer):\n",
    "        noiseimage = galsim.ImageF(50, 50)\n",
    "        # catalogs\n",
    "        hlradius = _hlr[i] \n",
    "        elip1 = te1[i]\n",
    "        elip2 = te2[i]\n",
    "        lmag = rband[i]\n",
    "        gflux = 10**((lmag-22.5)/(-2.5))\n",
    "        shearing2 = galsim.Shear(e1=-1*elip1, e2=elip2)\n",
    "        matrix = (shearing2.getMatrix())*(hlradius**2)*25\n",
    "        _covariances.append(matrix)\n",
    "        noiseimage.addNoise(gaussiannoise)\n",
    "        _noisematrices.append(noiseimage)\n",
    "    return _covariances, _noisematrices"
   ]
  },
  {
   "cell_type": "markdown",
   "metadata": {},
   "source": [
    "# Function Calls 1"
   ]
  },
  {
   "cell_type": "code",
   "execution_count": 179,
   "metadata": {},
   "outputs": [],
   "source": [
    "_nmoments1, _gfluxes1, _images1, failures  = HSMfunc(2000)\n",
    "_covariances1, _noisematrices1 = cheatfunc(2000)\n",
    "\n",
    "nmoments = [i for j, i in enumerate(_nmoments1) if j not in failures]\n",
    "gfluxes = [i for j, i in enumerate(_gfluxes1) if j not in failures]\n",
    "covariances = [i for j, i in enumerate(_covariances1) if j not in failures] # HSM doesn't always converge well, so the purpose of this is to remove galaxies for which HSM didn't converge.\n",
    "images = [i for j, i in enumerate(_images1) if j not in failures]\n",
    "noisematrices = [i for j, i in enumerate(_noisematrices1) if j not in failures]\n",
    "\n",
    "cheatfluxes = np.zeros(len(nmoments))\n",
    "hsmfluxes = np.zeros(len(nmoments))\n",
    "\n",
    "for j in range(len(nmoments)):\n",
    "    rv = multivariate_normal([0, 0], covariances[j])\n",
    "    r1 = np.sum(np.multiply(rv.pdf(pos), images[j].array + noisematrices[j].array)) # * (1/_hlr[j]**2)) noisematrices[j].array\n",
    "    r2 = np.sum(np.multiply(rv.pdf(pos), rv.pdf(pos))) #/(_hlr[j])**2)\n",
    "    cheatfluxes[j] = r1/r2\n",
    "    \n",
    "for i in range(len(nmoments)):\n",
    "    hsmfluxes[i] = nmoments[i].moments_amp"
   ]
  },
  {
   "cell_type": "markdown",
   "metadata": {},
   "source": [
    "# Plot of Matrix Flux vs. HSM Flux and Plot of Matrix Flux vs. Galaxy Flux"
   ]
  },
  {
   "cell_type": "code",
   "execution_count": 180,
   "metadata": {},
   "outputs": [
    {
     "name": "stdout",
     "output_type": "stream",
     "text": [
      "intercept: 0.07353530177746892\n",
      "slope: [0.80233082]\n"
     ]
    },
    {
     "data": {
      "text/plain": [
       "Text(0, 0.5, 'hsm fluxes')"
      ]
     },
     "execution_count": 180,
     "metadata": {},
     "output_type": "execute_result"
    },
    {
     "data": {
      "image/png": "[encoded data removed]",
      "text/plain": [
       "<Figure size 432x288 with 1 Axes>"
      ]
     },
     "metadata": {
      "needs_background": "light"
     },
     "output_type": "display_data"
    }
   ],
   "source": [
    "from sklearn.linear_model import LinearRegression\n",
    "cheatfluxes = cheatfluxes.reshape((-1, 1))\n",
    "model = LinearRegression().fit(cheatfluxes, hsmfluxes)\n",
    "print('intercept:', model.intercept_)\n",
    "print('slope:', model.coef_)\n",
    "plt.figure()\n",
    "z = np.linspace(0, 2, 100)\n",
    "y = z*model.coef_ + model.intercept_\n",
    "\n",
    "plt.plot(z, y, '-r')\n",
    "plt.scatter(cheatfluxes, hsmfluxes)\n",
    "plt.xlabel(\"matrix fluxes\")\n",
    "plt.ylabel(\"hsm fluxes\")\n",
    "\n"
   ]
  },
  {
   "cell_type": "code",
   "execution_count": 181,
   "metadata": {},
   "outputs": [
    {
     "name": "stdout",
     "output_type": "stream",
     "text": [
      "intercept: 0.010248972573606852\n",
      "slope: [0.87102761]\n"
     ]
    },
    {
     "data": {
      "image/png": "[encoded data removed]",
      "text/plain": [
       "<Figure size 432x288 with 1 Axes>"
      ]
     },
     "metadata": {
      "needs_background": "light"
     },
     "output_type": "display_data"
    }
   ],
   "source": [
    "plt.figure()\n",
    "plt.scatter(cheatfluxes, gfluxes)\n",
    "plt.xlabel(\"matrix fluxes\")\n",
    "plt.ylabel(\"galaxy fluxes\")\n",
    "\n",
    "cheatfluxes = cheatfluxes.reshape((-1, 1))\n",
    "gfluxes = np.asarray(gfluxes)\n",
    "model = LinearRegression().fit(cheatfluxes, gfluxes)\n",
    "print('intercept:', model.intercept_)\n",
    "print('slope:', model.coef_)"
   ]
  },
  {
   "cell_type": "markdown",
   "metadata": {},
   "source": [
    "# Delta Flux Function Calls"
   ]
  },
  {
   "cell_type": "code",
   "execution_count": 189,
   "metadata": {},
   "outputs": [],
   "source": [
    "_nmoments1, _gfluxes1, _images1, failures  = HSMfunc(2000)\n",
    "_covariances1, _noisematrices1 = cheatfunc(2000)\n",
    "\n",
    "nmoments = [i for j, i in enumerate(_nmoments1) if j not in failures]\n",
    "gfluxes = [i for j, i in enumerate(_gfluxes1) if j not in failures]\n",
    "covariances = [i for j, i in enumerate(_covariances1) if j not in failures]\n",
    "images = [i for j, i in enumerate(_images1) if j not in failures]\n",
    "noisematrices = [i for j, i in enumerate(_noisematrices1) if j not in failures]\n",
    "\n",
    "cheatfluxes = np.zeros(len(nmoments))\n",
    "hsmfluxes = np.zeros(len(nmoments))\n",
    "\n",
    "for j in range(len(nmoments)):\n",
    "    rv = multivariate_normal([0, 0], covariances[j])\n",
    "    r1 = np.sum(np.multiply(rv.pdf(pos), noisematrices[j].array)) # * (1/_hlr[j]**2)) noisematrices[j].array\n",
    "    r2 = np.sum(np.multiply(rv.pdf(pos), rv.pdf(pos))) #/(_hlr[j])**2)\n",
    "    cheatfluxes[j] = r1/r2\n",
    "    \n",
    "for i in range(len(nmoments)):\n",
    "    hsmfluxes[i] = nmoments[i].moments_amp - gfluxes[i]"
   ]
  },
  {
   "cell_type": "code",
   "execution_count": 183,
   "metadata": {},
   "outputs": [
    {
     "name": "stdout",
     "output_type": "stream",
     "text": [
      "0.5648401962408691 9.53574673945301e-06 0.03488875687188335\n",
      "0.19215323937239234 1.211319995418348e-05 0.0021422614829982446\n"
     ]
    }
   ],
   "source": [
    "print(np.amax(hsmfluxes), np.amin(np.abs(hsmfluxes)), np.sum(hsmfluxes)/len(hsmfluxes))\n",
    "\n",
    "print(np.amax(cheatfluxes), np.amin(np.abs(cheatfluxes)), np.sum(cheatfluxes)/len(cheatfluxes))"
   ]
  },
  {
   "cell_type": "code",
   "execution_count": 190,
   "metadata": {},
   "outputs": [
    {
     "data": {
      "text/plain": [
       "Text(0, 0.5, 'galaxy fluxes')"
      ]
     },
     "execution_count": 190,
     "metadata": {},
     "output_type": "execute_result"
    },
    {
     "data": {
      "image/png": "[encoded data removed]",
      "text/plain": [
       "<Figure size 432x288 with 1 Axes>"
      ]
     },
     "metadata": {
      "needs_background": "light"
     },
     "output_type": "display_data"
    }
   ],
   "source": [
    "plt.figure()\n",
    "plt.scatter(cheatfluxes, gfluxes)\n",
    "plt.xlabel(\"matrix fluxes\")\n",
    "plt.ylabel(\"galaxy fluxes\")"
   ]
  },
  {
   "cell_type": "code",
   "execution_count": 191,
   "metadata": {},
   "outputs": [
    {
     "data": {
      "text/plain": [
       "Text(0, 0.5, 'hsm fluxes')"
      ]
     },
     "execution_count": 191,
     "metadata": {},
     "output_type": "execute_result"
    },
    {
     "data": {
      "image/png": "[encoded data removed]",
      "text/plain": [
       "<Figure size 432x288 with 1 Axes>"
      ]
     },
     "metadata": {
      "needs_background": "light"
     },
     "output_type": "display_data"
    }
   ],
   "source": [
    "plt.figure()\n",
    "plt.scatter(cheatfluxes, hsmfluxes)\n",
    "plt.xlabel(\"matrix fluxes\")\n",
    "plt.ylabel(\"hsm fluxes\")"
   ]
  },
  {
   "cell_type": "code",
   "execution_count": 192,
   "metadata": {},
   "outputs": [
    {
     "data": {
      "text/plain": [
       "Text(0, 0.5, 'galaxy fluxes')"
      ]
     },
     "execution_count": 192,
     "metadata": {},
     "output_type": "execute_result"
    },
    {
     "data": {
      "image/png": "[encoded data removed]",
      "text/plain": [
       "<Figure size 432x288 with 1 Axes>"
      ]
     },
     "metadata": {
      "needs_background": "light"
     },
     "output_type": "display_data"
    }
   ],
   "source": [
    "plt.figure()\n",
    "plt.scatter(hsmfluxes, gfluxes)\n",
    "plt.xlabel(\"hsm fluxes\")\n",
    "plt.ylabel(\"galaxy fluxes\")"
   ]
  },
  {
   "cell_type": "code",
   "execution_count": null,
   "metadata": {},
   "outputs": [],
   "source": []
  }
 ],
 "metadata": {
  "kernelspec": {
   "display_name": "Python [conda env:lsst-scipipe-1172c30] *",
   "language": "python",
   "name": "conda-env-lsst-scipipe-1172c30-py"
  },
  "language_info": {
   "codemirror_mode": {
    "name": "ipython",
    "version": 3
   },
   "file_extension": ".py",
   "mimetype": "text/x-python",
   "name": "python",
   "nbconvert_exporter": "python",
   "pygments_lexer": "ipython3",
   "version": "3.7.2"
  }
 },
 "nbformat": 4,
 "nbformat_minor": 2
}
