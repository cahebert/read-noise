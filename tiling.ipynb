{
 "cells": [
  {
   "cell_type": "markdown",
   "metadata": {},
   "source": [
    "# The Chinchilla Field of View"
   ]
  },
  {
   "cell_type": "code",
   "execution_count": 1,
   "metadata": {},
   "outputs": [],
   "source": [
    "import numpy as np\n",
    "import os\n",
    "import glob\n",
    "import healpy as hp\n",
    "import matplotlib.pyplot as plt"
   ]
  },
  {
   "cell_type": "code",
   "execution_count": 2,
   "metadata": {},
   "outputs": [],
   "source": [
    "# Get all available chinchilla files and chinchilla pixels and store them in arrays\n",
    "root = \"/nfs/slac/des/fs1/g/sims/jderose/BCC/Chinchilla/Herd/Chinchilla-4/v1.9.2/addgalspostprocess/truth/truth\"\n",
    "fNamePattern = \"Chinchilla-4_lensed.{}.fits\"\n",
    "all_files = glob.glob(os.path.join(root, fNamePattern.format('*')))\n",
    "chinchilla_pixels = []\n",
    "for ipix in range(768):\n",
    "    if os.path.join(root, fNamePattern.format(ipix)) in all_files:\n",
    "        chinchilla_pixels.append(ipix)"
   ]
  },
  {
   "cell_type": "code",
   "execution_count": 3,
   "metadata": {},
   "outputs": [
    {
     "data": {
      "image/png": "[encoded data removed]",
      "text/plain": [
       "<Figure size 612x388.8 with 2 Axes>"
      ]
     },
     "metadata": {
      "needs_background": "light"
     },
     "output_type": "display_data"
    }
   ],
   "source": [
    "# The Chinchilla field of view: highlights all available pixels in yellow\n",
    "# (I don't think the diamond edges are actually available)\n",
    "mask = np.array([i in chinchilla_pixels for i in range(768)],dtype=int)\n",
    "hp.mollview(mask,nest=True)"
   ]
  },
  {
   "cell_type": "code",
   "execution_count": 4,
   "metadata": {},
   "outputs": [],
   "source": [
    "def getPixelsFromCenter(ra, dec, camera=None):\n",
    "    '''\n",
    "   Returns all pixels which overlap with the field of view of the\n",
    "   camera pointed at position (ra, dec) on the sky\n",
    "\n",
    "   Parameters\n",
    "   ----------\n",
    "   ra : float\n",
    "     The RA value of the boresight of the camera\n",
    "   dec : float\n",
    "     The Dec value of the boresight of the camera\n",
    "   camera : lsst.afw.geom.camera.Camera, optional\n",
    "     camera object used as template\n",
    "     \n",
    "   Returns\n",
    "   -------\n",
    "   ipix : array\n",
    "     The pixels which cover the field of view.\n",
    "\n",
    "    '''\n",
    "    if camera is None:\n",
    "        camera = camMapper._makeCamera()\n",
    "    \n",
    "    boresight = geom.SpherePoint(ra, dec, geom.degrees)\n",
    "    corners = [\n",
    "        getWcsFromDetector(camera['R41_S20'], boresight).pixelToSky(0,4071),\n",
    "        getWcsFromDetector(camera['R43_S22'], boresight).pixelToSky(3999,4071),\n",
    "        getWcsFromDetector(camera['R34_S22'], boresight).pixelToSky(3999,4071),\n",
    "        getWcsFromDetector(camera['R14_S02'], boresight).pixelToSky(3999,0),\n",
    "        getWcsFromDetector(camera['R03_S02'], boresight).pixelToSky(3999,0),\n",
    "        getWcsFromDetector(camera['R01_S00'], boresight).pixelToSky(0,0),\n",
    "        getWcsFromDetector(camera['R10_S00'], boresight).pixelToSky(0,0),\n",
    "        getWcsFromDetector(camera['R30_S20'], boresight).pixelToSky(0,4071)\n",
    "    ]\n",
    "    cornerRAList = np.array([corner.getRa().asDegrees() for corner in corners])\n",
    "    cornerDecList = np.array([corner.getDec().asDegrees() for corner in corners])\n",
    "    vecList = hp.ang2vec(cornerRAList,cornerDecList,lonlat=True)\n",
    "    return hp.query_polygon(8,vecList,inclusive=True,nest=True, fact = 128)"
   ]
  },
  {
   "cell_type": "markdown",
   "metadata": {},
   "source": [
    "# Get Pointing Positions\n",
    "We need to get a list of (ra, dec) values for our tiling that 1) cover as much of the sky as possible and 2) do not overlap.\n",
    "## Strategy: \n",
    "1. start at bottom.\n",
    "2. go to center. go right. go back to center. go left. move up. \n",
    "3. repeat step 2 until at top."
   ]
  },
  {
   "cell_type": "code",
   "execution_count": 5,
   "metadata": {},
   "outputs": [],
   "source": [
    "import lsst.afw.geom as geom"
   ]
  },
  {
   "cell_type": "code",
   "execution_count": 6,
   "metadata": {},
   "outputs": [],
   "source": [
    "# Start at bottom\n",
    "pointingList = []\n",
    "currLat = 2\n",
    "\n",
    "while(currLat < 89):\n",
    "    # Go to center\n",
    "    currLon = 90\n",
    "    midPoint = geom.SpherePoint(currLon, currLat, geom.degrees)\n",
    "    pointingList.append(midPoint)\n",
    "    \n",
    "    # Go right\n",
    "    while(currLon < 180 - 2/np.cos(currLat*np.pi/180)):\n",
    "        point = geom.SpherePoint(currLon, currLat, geom.degrees)\n",
    "        if point.separation(pointingList[-1]).asDegrees() < 4:\n",
    "            currLon += 0.2/np.cos(currLat*np.pi/180)\n",
    "            continue\n",
    "        pointingList.append(point)\n",
    "        currLon += 4/np.cos(currLat*np.pi/180)\n",
    "    \n",
    "    # Go back to center\n",
    "    currLon = 90 - 4/np.cos(currLat*np.pi/180)\n",
    "    while(midPoint.separation(geom.SpherePoint(currLon, currLat, geom.degrees)).asDegrees() < 4):\n",
    "        currLon -= 0.2/np.cos(currLat*np.pi/180)\n",
    "    \n",
    "    # Go left\n",
    "    while(currLon > 2/np.cos(currLat*np.pi/180)):\n",
    "        point = geom.SpherePoint(currLon, currLat, geom.degrees)\n",
    "        if point.separation(pointingList[-1]).asDegrees() < 4:\n",
    "            currLon -= 0.2/np.cos(currLat*np.pi/180)\n",
    "            continue\n",
    "        pointingList.append(point)\n",
    "        currLon -= 4/np.cos(currLat*np.pi/180)\n",
    "    \n",
    "    # Move up and repeat\n",
    "    currLat += 4"
   ]
  },
  {
   "cell_type": "markdown",
   "metadata": {},
   "source": [
    "### Check that these points are valid"
   ]
  },
  {
   "cell_type": "code",
   "execution_count": 7,
   "metadata": {},
   "outputs": [],
   "source": [
    "from lsst.obs.lsst import LsstCamMapper as camMapper\n",
    "from lsst.obs.lsst.lsstCamMapper import getWcsFromDetector"
   ]
  },
  {
   "cell_type": "code",
   "execution_count": 8,
   "metadata": {},
   "outputs": [
    {
     "name": "stdout",
     "output_type": "stream",
     "text": [
      "(150.209466, +86.000000) (180, 85.60000000000001)\n",
      "(29.790534, +86.000000) (0, 85.60000000000001)\n"
     ]
    }
   ],
   "source": [
    "# Check for points that might overlap with the boundary and remove them (there are 2)\n",
    "toRemove = []\n",
    "for point in pointingList:\n",
    "    for lat in np.arange(0,90,0.1):\n",
    "        if point.separation(geom.SpherePoint(0,lat,geom.degrees)).asDegrees() < 2.2:\n",
    "            print(point, (0,lat))\n",
    "            toRemove.append(point)\n",
    "            break\n",
    "        if point.separation(geom.SpherePoint(180,lat,geom.degrees)).asDegrees() < 2.2:\n",
    "            print(point, (180,lat))\n",
    "            toRemove.append(point)\n",
    "            break\n",
    "for point in toRemove:\n",
    "    pointingList.remove(point)"
   ]
  },
  {
   "cell_type": "code",
   "execution_count": 9,
   "metadata": {},
   "outputs": [],
   "source": [
    "# Check for points that overlap with each other (there are none)\n",
    "for i in range(len(pointingList)):\n",
    "    for j in range(i):\n",
    "        if pointingList[j].separation(pointingList[i]).asDegrees() < 3.99:\n",
    "            print(i, j, pointingList[j].separation(pointingList[i]).asDegrees())"
   ]
  },
  {
   "cell_type": "code",
   "execution_count": 10,
   "metadata": {},
   "outputs": [],
   "source": [
    "# Check for points that require chinchilla pixels that do not exist (there are none)\n",
    "camera = camMapper._makeCamera()\n",
    "for point in pointingList:\n",
    "    for pixel in getPixelsFromCenter(point.getRa().asDegrees(), point.getDec().asDegrees(), camera):\n",
    "        if pixel not in chinchilla_pixels:\n",
    "            print(point, pixel)"
   ]
  },
  {
   "cell_type": "code",
   "execution_count": 11,
   "metadata": {},
   "outputs": [
    {
     "name": "stdout",
     "output_type": "stream",
     "text": [
      "590\n"
     ]
    }
   ],
   "source": [
    "# we have approximately 5700 square degrees of coverage\n",
    "print(len(pointingList))"
   ]
  },
  {
   "cell_type": "markdown",
   "metadata": {},
   "source": [
    "# Test the tiling on a boresight that overlaps three HEALpix pixels"
   ]
  },
  {
   "cell_type": "code",
   "execution_count": 12,
   "metadata": {},
   "outputs": [],
   "source": [
    "from astropy.io import fits"
   ]
  },
  {
   "cell_type": "code",
   "execution_count": 13,
   "metadata": {},
   "outputs": [],
   "source": [
    "boresight = pointingList[0]\n",
    "pixels = getPixelsFromCenter(boresight.getRa().asDegrees(), boresight.getDec().asDegrees(), camera)\n",
    "wcsList = {detector : getWcsFromDetector(detector, boresight) for detector in camera}"
   ]
  },
  {
   "cell_type": "code",
   "execution_count": 14,
   "metadata": {},
   "outputs": [],
   "source": [
    "testFiles = [os.path.join(root,fNamePattern.format(pixel)) for pixel in pixels]\n",
    "hdulists = [fits.open(file) for file in testFiles]\n",
    "data = [hdulist[1].data for hdulist in hdulists]\n",
    "dummy = fits.open(os.path.join(root,fNamePattern.format(0)))"
   ]
  },
  {
   "cell_type": "code",
   "execution_count": 15,
   "metadata": {},
   "outputs": [],
   "source": [
    "def skyToCamPixel(ra, dec):\n",
    "    loc = geom.SpherePoint(ra, dec, geom.degrees)\n",
    "    distance = loc.separation(boresight)\n",
    "    if distance.asDegrees() > 2.2:\n",
    "        return 'OOB', 0, 0\n",
    "    for det in wcsList:\n",
    "        pix = geom.Point2I(wcsList[det].skyToPixel(loc))\n",
    "        if det.getBBox().contains(pix):\n",
    "            return det.getName(), pix.getX(), pix.getY()\n",
    "    return 'OOB', 0, 0"
   ]
  },
  {
   "cell_type": "code",
   "execution_count": 16,
   "metadata": {},
   "outputs": [],
   "source": [
    "skyToCamPixel = np.vectorize(skyToCamPixel, otypes=(str, int, int))"
   ]
  },
  {
   "cell_type": "code",
   "execution_count": 17,
   "metadata": {},
   "outputs": [],
   "source": [
    "def inBoundsFast(ra, dec):\n",
    "    loc = geom.SpherePoint(ra, dec, geom.degrees)\n",
    "    distance = loc.separation(boresight)\n",
    "    if distance.asDegrees() > 2.2:\n",
    "        return False\n",
    "    for det in wcsList:\n",
    "        pix = geom.Point2I(wcsList[det].skyToPixel(loc))\n",
    "        if det.getBBox().contains(pix):\n",
    "            return True\n",
    "    return False\n",
    "\n",
    "inBoundsFast = np.vectorize(inBoundsFast)"
   ]
  },
  {
   "cell_type": "code",
   "execution_count": 18,
   "metadata": {},
   "outputs": [],
   "source": [
    "endOfLast = 0\n",
    "for i, hdu in enumerate(data):\n",
    "    ra = hdu['RA'][:10000]\n",
    "    dec = hdu['DEC'][:10000]\n",
    "    valid = hdu[:10000][inBoundsFast(ra, dec)]\n",
    "    dummy[1].data[endOfLast:endOfLast+len(valid)] = valid\n",
    "    endOfLast = len(valid)\n",
    "dummy[1].data = dummy[1].data[:endOfLast]"
   ]
  },
  {
   "cell_type": "code",
   "execution_count": 19,
   "metadata": {},
   "outputs": [],
   "source": [
    "dummy[1].data['TRA'] = boresight.getRa().asDegrees()\n",
    "dummy[1].data['TDEC'] = boresight.getDec().asDegrees()"
   ]
  },
  {
   "cell_type": "code",
   "execution_count": 20,
   "metadata": {},
   "outputs": [
    {
     "name": "stdout",
     "output_type": "stream",
     "text": [
      "[90. 90. 90. ... 90. 90. 90.]\n",
      "[2. 2. 2. ... 2. 2. 2.]\n"
     ]
    }
   ],
   "source": [
    "print(dummy[1].data['TRA'])\n",
    "print(dummy[1].data['TDEC'])"
   ]
  },
  {
   "cell_type": "code",
   "execution_count": 21,
   "metadata": {},
   "outputs": [
    {
     "data": {
      "image/png": "[encoded data removed]",
      "text/plain": [
       "<Figure size 720x720 with 2 Axes>"
      ]
     },
     "metadata": {
      "needs_background": "light"
     },
     "output_type": "display_data"
    }
   ],
   "source": [
    "rat = dummy[1].data['RA']\n",
    "dect = dummy[1].data['DEC']\n",
    "f = plt.figure(figsize=(10,10))\n",
    "plt.hist2d(rat, dect, bins=(40,40))\n",
    "plt.colorbar()\n",
    "plt.show()"
   ]
  },
  {
   "cell_type": "code",
   "execution_count": 23,
   "metadata": {},
   "outputs": [],
   "source": [
    "dummy.writeto('outputs/samplefits0.fits')"
   ]
  },
  {
   "cell_type": "code",
   "execution_count": 26,
   "metadata": {},
   "outputs": [
    {
     "name": "stdout",
     "output_type": "stream",
     "text": [
      "True\n",
      "True\n"
     ]
    }
   ],
   "source": [
    "ayy = set()\n",
    "for point in pointingList:\n",
    "    ayy.update(getPixelsFromCenter(point.getRa().asDegrees(), point.getDec().asDegrees(), camera))\n",
    "print(set(chinchilla_pixels).issubset(ayy))\n",
    "print(ayy.issubset(chinchilla_pixels))"
   ]
  },
  {
   "cell_type": "code",
   "execution_count": null,
   "metadata": {},
   "outputs": [],
   "source": []
  }
 ],
 "metadata": {
  "kernelspec": {
   "display_name": "Python [conda env:lsst-scipipe-1172c30] *",
   "language": "python",
   "name": "conda-env-lsst-scipipe-1172c30-py"
  },
  "language_info": {
   "codemirror_mode": {
    "name": "ipython",
    "version": 3
   },
   "file_extension": ".py",
   "mimetype": "text/x-python",
   "name": "python",
   "nbconvert_exporter": "python",
   "pygments_lexer": "ipython3",
   "version": "3.7.2"
  }
 },
 "nbformat": 4,
 "nbformat_minor": 2
}
